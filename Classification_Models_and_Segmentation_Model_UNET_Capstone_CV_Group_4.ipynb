{
 "cells": [
  {
   "cell_type": "markdown",
   "metadata": {},
   "source": [
    "# This notebook has 2 parts in it\n",
    "\n",
    "1) Classification\n",
    "\n",
    "2) Segmentation\n",
    "\n",
    "**Based on the learnings and ideas from the interim model I tried few others as follows**\n",
    "\n",
    "\n",
    "\n",
    "This notebook is continuation to interim notebook so.Some functions, datagenerators defined in that notebook are not defined again here"
   ]
  },
  {
   "cell_type": "markdown",
   "metadata": {},
   "source": [
    "# **Classification**\n",
    "\n",
    "*VGG16\n",
    "\n",
    "*Model with cropped \n",
    "\n",
    "*NORMAL : 0, OTHERS :1\n",
    "\n",
    "*Multi class classification\n",
    "\n",
    "*Ensable with other dicom datas"
   ]
  },
  {
   "cell_type": "markdown",
   "metadata": {},
   "source": [
    "# **VGG 16**"
   ]
  },
  {
   "cell_type": "code",
   "execution_count": 16,
   "metadata": {},
   "outputs": [],
   "source": [
    "# importing vgg16\n",
    "from tensorflow.keras.applications.vgg16 import VGG16,preprocess_input"
   ]
  },
  {
   "cell_type": "code",
   "execution_count": 17,
   "metadata": {},
   "outputs": [],
   "source": [
    "#creating datagenerator\n",
    "datagen=ImageDataGenerator(samplewise_center=True,samplewise_std_normalization=True,horizontal_flip=True,\n",
    "                          width_shift_range=0.05,rescale=1/255,fill_mode='nearest',\n",
    "                           preprocessing_function=preprocess_input,validation_split=0.1)"
   ]
  },
  {
   "cell_type": "code",
   "execution_count": 18,
   "metadata": {},
   "outputs": [
    {
     "name": "stdout",
     "output_type": "stream",
     "text": [
      "Found 24016 images belonging to 2 classes.\n",
      "Found 2668 images belonging to 2 classes.\n"
     ]
    }
   ],
   "source": [
    "train=datagen.flow_from_directory('data',color_mode='rgb',batch_size=64,class_mode='binary',subset='training')\n",
    "test=datagen.flow_from_directory('data',color_mode='rgb',batch_size=32,class_mode='binary',subset='validation')"
   ]
  },
  {
   "cell_type": "code",
   "execution_count": 19,
   "metadata": {},
   "outputs": [
    {
     "data": {
      "text/plain": [
       "{'negative': 0, 'positive': 1}"
      ]
     },
     "execution_count": 19,
     "metadata": {},
     "output_type": "execute_result"
    }
   ],
   "source": [
    "train.class_indices"
   ]
  },
  {
   "cell_type": "code",
   "execution_count": 20,
   "metadata": {},
   "outputs": [
    {
     "name": "stdout",
     "output_type": "stream",
     "text": [
      "Downloading data from https://github.com/fchollet/deep-learning-models/releases/download/v0.1/vgg16_weights_tf_dim_ordering_tf_kernels_notop.h5\n",
      "58892288/58889256 [==============================] - 1s 0us/step\n",
      "last layer output shape:  (None, 8, 8, 512)\n"
     ]
    }
   ],
   "source": [
    "# creating model\n",
    "pre_trained_model = VGG16(input_shape = (256,256,3), \n",
    "                                include_top = False, \n",
    "                                weights = 'imagenet')\n",
    "\n",
    "for layer in pre_trained_model.layers:\n",
    "  layer.trainable = False\n",
    "\n",
    "# pre_trained_model.summary()\n",
    "\n",
    "last_layer = pre_trained_model.get_layer('block5_pool')\n",
    "print('last layer output shape: ', last_layer.output_shape)\n",
    "last_output = last_layer.output"
   ]
  },
  {
   "cell_type": "code",
   "execution_count": 21,
   "metadata": {},
   "outputs": [],
   "source": [
    "# Top layers for classification\n",
    "from tensorflow.keras.layers import Flatten,Dense,Dropout,BatchNormalization,LeakyReLU\n",
    "\n",
    "model = Flatten()(last_output)\n",
    "model = Dense(1024)(model)\n",
    "model=LeakyReLU(0.1)(model)\n",
    "model=Dropout(0.2)(model)\n",
    "model=BatchNormalization()(model)\n",
    "model = Dense(1, activation='sigmoid')(model)"
   ]
  },
  {
   "cell_type": "code",
   "execution_count": 22,
   "metadata": {},
   "outputs": [
    {
     "name": "stdout",
     "output_type": "stream",
     "text": [
      "Model: \"model\"\n",
      "_________________________________________________________________\n",
      "Layer (type)                 Output Shape              Param #   \n",
      "=================================================================\n",
      "input_1 (InputLayer)         [(None, 256, 256, 3)]     0         \n",
      "_________________________________________________________________\n",
      "block1_conv1 (Conv2D)        (None, 256, 256, 64)      1792      \n",
      "_________________________________________________________________\n",
      "block1_conv2 (Conv2D)        (None, 256, 256, 64)      36928     \n",
      "_________________________________________________________________\n",
      "block1_pool (MaxPooling2D)   (None, 128, 128, 64)      0         \n",
      "_________________________________________________________________\n",
      "block2_conv1 (Conv2D)        (None, 128, 128, 128)     73856     \n",
      "_________________________________________________________________\n",
      "block2_conv2 (Conv2D)        (None, 128, 128, 128)     147584    \n",
      "_________________________________________________________________\n",
      "block2_pool (MaxPooling2D)   (None, 64, 64, 128)       0         \n",
      "_________________________________________________________________\n",
      "block3_conv1 (Conv2D)        (None, 64, 64, 256)       295168    \n",
      "_________________________________________________________________\n",
      "block3_conv2 (Conv2D)        (None, 64, 64, 256)       590080    \n",
      "_________________________________________________________________\n",
      "block3_conv3 (Conv2D)        (None, 64, 64, 256)       590080    \n",
      "_________________________________________________________________\n",
      "block3_pool (MaxPooling2D)   (None, 32, 32, 256)       0         \n",
      "_________________________________________________________________\n",
      "block4_conv1 (Conv2D)        (None, 32, 32, 512)       1180160   \n",
      "_________________________________________________________________\n",
      "block4_conv2 (Conv2D)        (None, 32, 32, 512)       2359808   \n",
      "_________________________________________________________________\n",
      "block4_conv3 (Conv2D)        (None, 32, 32, 512)       2359808   \n",
      "_________________________________________________________________\n",
      "block4_pool (MaxPooling2D)   (None, 16, 16, 512)       0         \n",
      "_________________________________________________________________\n",
      "block5_conv1 (Conv2D)        (None, 16, 16, 512)       2359808   \n",
      "_________________________________________________________________\n",
      "block5_conv2 (Conv2D)        (None, 16, 16, 512)       2359808   \n",
      "_________________________________________________________________\n",
      "block5_conv3 (Conv2D)        (None, 16, 16, 512)       2359808   \n",
      "_________________________________________________________________\n",
      "block5_pool (MaxPooling2D)   (None, 8, 8, 512)         0         \n",
      "_________________________________________________________________\n",
      "flatten (Flatten)            (None, 32768)             0         \n",
      "_________________________________________________________________\n",
      "dense (Dense)                (None, 1024)              33555456  \n",
      "_________________________________________________________________\n",
      "leaky_re_lu (LeakyReLU)      (None, 1024)              0         \n",
      "_________________________________________________________________\n",
      "dropout (Dropout)            (None, 1024)              0         \n",
      "_________________________________________________________________\n",
      "batch_normalization (BatchNo (None, 1024)              4096      \n",
      "_________________________________________________________________\n",
      "dense_1 (Dense)              (None, 1)                 1025      \n",
      "=================================================================\n",
      "Total params: 48,275,265\n",
      "Trainable params: 33,558,529\n",
      "Non-trainable params: 14,716,736\n",
      "_________________________________________________________________\n"
     ]
    }
   ],
   "source": [
    "from tensorflow.keras.models import Model\n",
    "\n",
    "\n",
    "vgg16model = Model( pre_trained_model.input, model) \n",
    "\n",
    "vgg16model.compile(optimizer = 'adam', \n",
    "              loss = 'binary_crossentropy', \n",
    "              metrics = ['accuracy'])\n",
    "vgg16model.summary()"
   ]
  },
  {
   "cell_type": "code",
   "execution_count": 23,
   "metadata": {},
   "outputs": [],
   "source": [
    "# call back function\n",
    "from tensorflow.keras.callbacks import EarlyStopping,ReduceLROnPlateau\n",
    "\n",
    "\n",
    "early=EarlyStopping(monitor='accuracy',patience=2,mode='auto')\n",
    "reduce_lr = ReduceLROnPlateau(monitor='accuracy', factor=0.5, patience=2, verbose=1,cooldown=0, mode='auto',min_delta=0.0001, min_lr=0)"
   ]
  },
  {
   "cell_type": "code",
   "execution_count": 24,
   "metadata": {},
   "outputs": [],
   "source": [
    "# class weight for balancing\n",
    "class_weight={0:1,1:3.1}"
   ]
  },
  {
   "cell_type": "code",
   "execution_count": 25,
   "metadata": {},
   "outputs": [
    {
     "name": "stdout",
     "output_type": "stream",
     "text": [
      "Train for 100 steps, validate for 84 steps\n",
      "Epoch 1/50\n",
      "100/100 [==============================] - 181s 2s/step - loss: 1.0207 - accuracy: 0.7202 - val_loss: 1.2782 - val_accuracy: 0.8321\n",
      "Epoch 2/50\n",
      "100/100 [==============================] - 176s 2s/step - loss: 0.8396 - accuracy: 0.7439 - val_loss: 0.6965 - val_accuracy: 0.8298\n",
      "Epoch 3/50\n",
      "100/100 [==============================] - 176s 2s/step - loss: 0.7969 - accuracy: 0.7447 - val_loss: 0.6508 - val_accuracy: 0.8111\n",
      "Epoch 4/50\n",
      "100/100 [==============================] - 175s 2s/step - loss: 0.7687 - accuracy: 0.7550 - val_loss: 0.6498 - val_accuracy: 0.8313\n",
      "Epoch 5/50\n",
      "100/100 [==============================] - 174s 2s/step - loss: 0.7571 - accuracy: 0.7598 - val_loss: 0.6532 - val_accuracy: 0.7920\n",
      "Epoch 6/50\n",
      "100/100 [==============================] - 174s 2s/step - loss: 0.7295 - accuracy: 0.7616 - val_loss: 0.6489 - val_accuracy: 0.8032\n",
      "Epoch 7/50\n",
      "100/100 [==============================] - 175s 2s/step - loss: 0.7082 - accuracy: 0.7724 - val_loss: 0.6812 - val_accuracy: 0.7429\n",
      "Epoch 8/50\n",
      "100/100 [==============================] - 175s 2s/step - loss: 0.7104 - accuracy: 0.7702 - val_loss: 0.6432 - val_accuracy: 0.7969\n",
      "Epoch 9/50\n",
      "100/100 [==============================] - 176s 2s/step - loss: 0.7089 - accuracy: 0.7770 - val_loss: 0.6541 - val_accuracy: 0.7939\n",
      "Epoch 10/50\n",
      "100/100 [==============================] - 175s 2s/step - loss: 0.6949 - accuracy: 0.7856 - val_loss: 0.6666 - val_accuracy: 0.8340\n",
      "Epoch 11/50\n",
      "100/100 [==============================] - 172s 2s/step - loss: 0.7148 - accuracy: 0.7797 - val_loss: 0.6397 - val_accuracy: 0.8283\n",
      "Epoch 12/50\n",
      " 99/100 [============================>.] - ETA: 1s - loss: 0.7096 - accuracy: 0.7756\n",
      "Epoch 00012: ReduceLROnPlateau reducing learning rate to 0.0005000000237487257.\n",
      "100/100 [==============================] - 172s 2s/step - loss: 0.7101 - accuracy: 0.7755 - val_loss: 0.6445 - val_accuracy: 0.7909\n",
      "Epoch 13/50\n",
      "100/100 [==============================] - 173s 2s/step - loss: 0.6833 - accuracy: 0.7859 - val_loss: 0.6435 - val_accuracy: 0.8152\n",
      "Epoch 14/50\n",
      "100/100 [==============================] - 178s 2s/step - loss: 0.6591 - accuracy: 0.7881 - val_loss: 0.6456 - val_accuracy: 0.8310\n",
      "Epoch 15/50\n",
      "100/100 [==============================] - 174s 2s/step - loss: 0.6632 - accuracy: 0.7914 - val_loss: 0.6512 - val_accuracy: 0.8118\n",
      "Epoch 16/50\n",
      "100/100 [==============================] - 178s 2s/step - loss: 0.6696 - accuracy: 0.7930 - val_loss: 0.6478 - val_accuracy: 0.8205\n",
      "Epoch 17/50\n",
      "100/100 [==============================] - 178s 2s/step - loss: 0.6750 - accuracy: 0.7842 - val_loss: 0.6452 - val_accuracy: 0.8238\n",
      "Epoch 18/50\n",
      "100/100 [==============================] - 179s 2s/step - loss: 0.6592 - accuracy: 0.7942 - val_loss: 0.6680 - val_accuracy: 0.8490\n",
      "Epoch 19/50\n",
      "100/100 [==============================] - 177s 2s/step - loss: 0.6505 - accuracy: 0.8032 - val_loss: 0.6688 - val_accuracy: 0.8130\n",
      "Epoch 20/50\n",
      "100/100 [==============================] - 178s 2s/step - loss: 0.6494 - accuracy: 0.7914 - val_loss: 0.6772 - val_accuracy: 0.8317\n",
      "Epoch 21/50\n",
      " 99/100 [============================>.] - ETA: 1s - loss: 0.6490 - accuracy: 0.7977\n",
      "Epoch 00021: ReduceLROnPlateau reducing learning rate to 0.0002500000118743628.\n",
      "100/100 [==============================] - 178s 2s/step - loss: 0.6503 - accuracy: 0.7977 - val_loss: 0.6536 - val_accuracy: 0.8276\n",
      "Epoch 22/50\n",
      "100/100 [==============================] - 178s 2s/step - loss: 0.6225 - accuracy: 0.8069 - val_loss: 0.6611 - val_accuracy: 0.8302\n",
      "Epoch 23/50\n",
      "100/100 [==============================] - 174s 2s/step - loss: 0.6181 - accuracy: 0.8036 - val_loss: 0.6468 - val_accuracy: 0.8013\n",
      "Epoch 24/50\n",
      "100/100 [==============================] - 175s 2s/step - loss: 0.6148 - accuracy: 0.8105 - val_loss: 0.6591 - val_accuracy: 0.8295\n",
      "Epoch 25/50\n",
      "100/100 [==============================] - 172s 2s/step - loss: 0.6209 - accuracy: 0.8159 - val_loss: 0.6662 - val_accuracy: 0.8482\n",
      "Epoch 26/50\n",
      "100/100 [==============================] - 167s 2s/step - loss: 0.6052 - accuracy: 0.8087 - val_loss: 0.6570 - val_accuracy: 0.8156\n",
      "Epoch 27/50\n",
      " 99/100 [============================>.] - ETA: 1s - loss: 0.6023 - accuracy: 0.8142\n",
      "Epoch 00027: ReduceLROnPlateau reducing learning rate to 0.0001250000059371814.\n",
      "100/100 [==============================] - 163s 2s/step - loss: 0.6035 - accuracy: 0.8138 - val_loss: 0.6869 - val_accuracy: 0.8430\n",
      "Epoch 28/50\n",
      "100/100 [==============================] - 159s 2s/step - loss: 0.6008 - accuracy: 0.8202 - val_loss: 0.6676 - val_accuracy: 0.8325\n",
      "Epoch 29/50\n",
      "100/100 [==============================] - 157s 2s/step - loss: 0.6029 - accuracy: 0.8106 - val_loss: 0.6800 - val_accuracy: 0.8306\n",
      "Epoch 30/50\n",
      "100/100 [==============================] - 161s 2s/step - loss: 0.5835 - accuracy: 0.8228 - val_loss: 0.6753 - val_accuracy: 0.8133\n",
      "Epoch 31/50\n",
      "100/100 [==============================] - 158s 2s/step - loss: 0.5729 - accuracy: 0.8266 - val_loss: 0.7170 - val_accuracy: 0.8197\n",
      "Epoch 32/50\n",
      "100/100 [==============================] - 163s 2s/step - loss: 0.5693 - accuracy: 0.8243 - val_loss: 0.7128 - val_accuracy: 0.8287\n",
      "Epoch 33/50\n",
      " 99/100 [============================>.] - ETA: 1s - loss: 0.5854 - accuracy: 0.8196\n",
      "Epoch 00033: ReduceLROnPlateau reducing learning rate to 6.25000029685907e-05.\n",
      "100/100 [==============================] - 167s 2s/step - loss: 0.5844 - accuracy: 0.8198 - val_loss: 0.7040 - val_accuracy: 0.8306\n",
      "Epoch 34/50\n",
      "100/100 [==============================] - 173s 2s/step - loss: 0.5807 - accuracy: 0.8255 - val_loss: 0.6857 - val_accuracy: 0.8351\n",
      "Epoch 35/50\n",
      "100/100 [==============================] - 168s 2s/step - loss: 0.5543 - accuracy: 0.8303 - val_loss: 0.6853 - val_accuracy: 0.8422\n",
      "Epoch 36/50\n",
      "100/100 [==============================] - 164s 2s/step - loss: 0.5601 - accuracy: 0.8273 - val_loss: 0.6833 - val_accuracy: 0.8302\n",
      "Epoch 37/50\n",
      "100/100 [==============================] - 172s 2s/step - loss: 0.5530 - accuracy: 0.8317 - val_loss: 0.6928 - val_accuracy: 0.8257\n",
      "Epoch 38/50\n",
      "100/100 [==============================] - 175s 2s/step - loss: 0.5569 - accuracy: 0.8227 - val_loss: 0.7049 - val_accuracy: 0.8302\n",
      "Epoch 39/50\n",
      "100/100 [==============================] - 171s 2s/step - loss: 0.5521 - accuracy: 0.8319 - val_loss: 0.7153 - val_accuracy: 0.8283\n",
      "Epoch 40/50\n",
      "100/100 [==============================] - 170s 2s/step - loss: 0.5566 - accuracy: 0.8272 - val_loss: 0.7098 - val_accuracy: 0.8287\n",
      "Epoch 41/50\n",
      "100/100 [==============================] - 170s 2s/step - loss: 0.5295 - accuracy: 0.8377 - val_loss: 0.6865 - val_accuracy: 0.8268\n",
      "Epoch 42/50\n",
      "100/100 [==============================] - 178s 2s/step - loss: 0.5452 - accuracy: 0.8342 - val_loss: 0.6970 - val_accuracy: 0.8175\n",
      "Epoch 43/50\n",
      "100/100 [==============================] - 179s 2s/step - loss: 0.5316 - accuracy: 0.8381 - val_loss: 0.7046 - val_accuracy: 0.8178\n",
      "Epoch 44/50\n",
      "100/100 [==============================] - 172s 2s/step - loss: 0.5227 - accuracy: 0.8348 - val_loss: 0.7425 - val_accuracy: 0.8355\n",
      "Epoch 45/50\n",
      " 99/100 [============================>.] - ETA: 1s - loss: 0.5551 - accuracy: 0.8284\n",
      "Epoch 00045: ReduceLROnPlateau reducing learning rate to 3.125000148429535e-05.\n",
      "100/100 [==============================] - 171s 2s/step - loss: 0.5541 - accuracy: 0.8286 - val_loss: 0.7135 - val_accuracy: 0.8340\n",
      "Epoch 46/50\n",
      "100/100 [==============================] - 170s 2s/step - loss: 0.5159 - accuracy: 0.8394 - val_loss: 0.7350 - val_accuracy: 0.8302\n",
      "Epoch 47/50\n",
      "100/100 [==============================] - 170s 2s/step - loss: 0.5146 - accuracy: 0.8395 - val_loss: 0.7239 - val_accuracy: 0.8313\n",
      "Epoch 48/50\n",
      "100/100 [==============================] - 171s 2s/step - loss: 0.5210 - accuracy: 0.8397 - val_loss: 0.7447 - val_accuracy: 0.8377\n",
      "Epoch 49/50\n",
      "100/100 [==============================] - 172s 2s/step - loss: 0.5400 - accuracy: 0.8405 - val_loss: 0.7281 - val_accuracy: 0.8175\n",
      "Epoch 50/50\n",
      "100/100 [==============================] - 173s 2s/step - loss: 0.5353 - accuracy: 0.8419 - val_loss: 0.6948 - val_accuracy: 0.8182\n"
     ]
    }
   ],
   "source": [
    "history=vgg16model.fit(train,epochs=50,callbacks=[reduce_lr],steps_per_epoch=100,validation_data=test,class_weight=class_weight)"
   ]
  },
  {
   "cell_type": "markdown",
   "metadata": {},
   "source": [
    "**Evaluation**"
   ]
  },
  {
   "cell_type": "code",
   "execution_count": 26,
   "metadata": {},
   "outputs": [],
   "source": [
    "vgg16model.save_weights('vggweights1650.h5')\n"
   ]
  },
  {
   "cell_type": "code",
   "execution_count": 27,
   "metadata": {},
   "outputs": [],
   "source": [
    "kk=pd.DataFrame({'loss':history.history[\"loss\"],'val_loss':history.history[\"val_loss\"],\n",
    "                 'accuracy':history.history[\"accuracy\"],'val_acc':history.history[\"val_accuracy\"]})"
   ]
  },
  {
   "cell_type": "code",
   "execution_count": 28,
   "metadata": {},
   "outputs": [],
   "source": [
    "kk.to_csv('vgghistory1650.csv')"
   ]
  },
  {
   "cell_type": "code",
   "execution_count": 29,
   "metadata": {},
   "outputs": [
    {
     "name": "stderr",
     "output_type": "stream",
     "text": [
      "100%|██████████| 84/84 [00:44<00:00,  1.88it/s]\n"
     ]
    }
   ],
   "source": [
    "y=[]\n",
    "\n",
    "test.reset()\n",
    "\n",
    "for i in tqdm(range(84)):\n",
    "    _,tar=test.__getitem__(i)\n",
    "    for j in tar:\n",
    "        y.append(j)"
   ]
  },
  {
   "cell_type": "code",
   "execution_count": 30,
   "metadata": {},
   "outputs": [],
   "source": [
    "y_pred=vgg16model.predict(test)"
   ]
  },
  {
   "cell_type": "code",
   "execution_count": 31,
   "metadata": {},
   "outputs": [],
   "source": [
    "pred_y=[]\n",
    "for i in y_pred:\n",
    "    if i>=0.03:\n",
    "        pred_y.append(1)\n",
    "    else:\n",
    "        pred_y.append(0)"
   ]
  },
  {
   "cell_type": "code",
   "execution_count": 32,
   "metadata": {},
   "outputs": [
    {
     "name": "stdout",
     "output_type": "stream",
     "text": [
      "              precision    recall  f1-score   support\n",
      "\n",
      "         0.0       0.98      0.27      0.43      2067\n",
      "         1.0       0.28      0.99      0.44       601\n",
      "\n",
      "    accuracy                           0.43      2668\n",
      "   macro avg       0.63      0.63      0.43      2668\n",
      "weighted avg       0.83      0.43      0.43      2668\n",
      "\n"
     ]
    }
   ],
   "source": [
    "from sklearn.metrics import roc_curve,auc,precision_recall_curve,classification_report\n",
    "print(classification_report(y,pred_y))"
   ]
  },
  {
   "cell_type": "code",
   "execution_count": 33,
   "metadata": {},
   "outputs": [
    {
     "name": "stdout",
     "output_type": "stream",
     "text": [
      "0.866548817605233\n"
     ]
    }
   ],
   "source": [
    "from sklearn import metrics\n",
    "print(metrics.roc_auc_score(y, y_pred))"
   ]
  },
  {
   "cell_type": "markdown",
   "metadata": {},
   "source": [
    "It is less than VGG19"
   ]
  },
  {
   "cell_type": "code",
   "execution_count": 34,
   "metadata": {},
   "outputs": [],
   "source": [
    "def evaluate_threshold(threshold):\n",
    "    Sensitivity=tpr[thresholds > threshold][-1]\n",
    "    Specificity= 1 - fpr[thresholds > threshold][-1]\n",
    "    return Sensitivity,Specificity"
   ]
  },
  {
   "cell_type": "code",
   "execution_count": 35,
   "metadata": {},
   "outputs": [
    {
     "data": {
      "image/png": "[encoded data removed]",
      "text/plain": [
       "<Figure size 432x288 with 1 Axes>"
      ]
     },
     "metadata": {},
     "output_type": "display_data"
    }
   ],
   "source": [
    "# ROC curve\n",
    "\n",
    "import matplotlib.pyplot as plt\n",
    "fpr, tpr, thresholds = metrics.roc_curve(y, y_pred)\n",
    "\n",
    "plt.plot(fpr, tpr)\n",
    "plt.xlim([0.0, 1.0])\n",
    "plt.ylim([0.0, 1.0])\n",
    "plt.title('ROC curve')\n",
    "plt.xlabel('False Positive Rate (1 - Specificity)')\n",
    "plt.ylabel('True Positive Rate (Sensitivity)')\n",
    "plt.plot(fpr,fpr,linestyle='--',color='black')\n",
    "plt.grid(True)"
   ]
  },
  {
   "cell_type": "code",
   "execution_count": 36,
   "metadata": {
    "scrolled": false
   },
   "outputs": [
    {
     "data": {
      "text/html": [
       "<div>\n",
       "<style scoped>\n",
       "    .dataframe tbody tr th:only-of-type {\n",
       "        vertical-align: middle;\n",
       "    }\n",
       "\n",
       "    .dataframe tbody tr th {\n",
       "        vertical-align: top;\n",
       "    }\n",
       "\n",
       "    .dataframe thead th {\n",
       "        text-align: right;\n",
       "    }\n",
       "</style>\n",
       "<table border=\"1\" class=\"dataframe\">\n",
       "  <thead>\n",
       "    <tr style=\"text-align: right;\">\n",
       "      <th></th>\n",
       "      <th>Sensitivity</th>\n",
       "      <th>Specificity</th>\n",
       "    </tr>\n",
       "  </thead>\n",
       "  <tbody>\n",
       "    <tr>\n",
       "      <th>0.1</th>\n",
       "      <td>0.948419</td>\n",
       "      <td>0.498307</td>\n",
       "    </tr>\n",
       "    <tr>\n",
       "      <th>0.2</th>\n",
       "      <td>0.885191</td>\n",
       "      <td>0.658926</td>\n",
       "    </tr>\n",
       "    <tr>\n",
       "      <th>0.3</th>\n",
       "      <td>0.826955</td>\n",
       "      <td>0.747460</td>\n",
       "    </tr>\n",
       "    <tr>\n",
       "      <th>0.4</th>\n",
       "      <td>0.762063</td>\n",
       "      <td>0.816642</td>\n",
       "    </tr>\n",
       "    <tr>\n",
       "      <th>0.5</th>\n",
       "      <td>0.690516</td>\n",
       "      <td>0.860668</td>\n",
       "    </tr>\n",
       "    <tr>\n",
       "      <th>0.6</th>\n",
       "      <td>0.603993</td>\n",
       "      <td>0.897436</td>\n",
       "    </tr>\n",
       "    <tr>\n",
       "      <th>0.7</th>\n",
       "      <td>0.509151</td>\n",
       "      <td>0.928399</td>\n",
       "    </tr>\n",
       "    <tr>\n",
       "      <th>0.8</th>\n",
       "      <td>0.414309</td>\n",
       "      <td>0.956459</td>\n",
       "    </tr>\n",
       "    <tr>\n",
       "      <th>0.9</th>\n",
       "      <td>0.281198</td>\n",
       "      <td>0.979681</td>\n",
       "    </tr>\n",
       "  </tbody>\n",
       "</table>\n",
       "</div>"
      ],
      "text/plain": [
       "     Sensitivity  Specificity\n",
       "0.1     0.948419     0.498307\n",
       "0.2     0.885191     0.658926\n",
       "0.3     0.826955     0.747460\n",
       "0.4     0.762063     0.816642\n",
       "0.5     0.690516     0.860668\n",
       "0.6     0.603993     0.897436\n",
       "0.7     0.509151     0.928399\n",
       "0.8     0.414309     0.956459\n",
       "0.9     0.281198     0.979681"
      ]
     },
     "metadata": {},
     "output_type": "display_data"
    }
   ],
   "source": [
    "# threshold analysis\n",
    "i=[0.1,0.2,0.3,0.4,0.5,0.6,0.7,0.8,0.9]\n",
    "da=pd.DataFrame({})\n",
    "for j in i:\n",
    "    sen,spec=evaluate_threshold(j)\n",
    "    da=da.append(pd.DataFrame({'Sensitivity':sen,'Specificity':spec},index=[j]))\n",
    "display(da)    "
   ]
  },
  {
   "cell_type": "markdown",
   "metadata": {},
   "source": [
    "The area under the curve is 0.866 and the loss is 0.6948. This shows that the model VGG19 is showing a good performance"
   ]
  },
  {
   "cell_type": "markdown",
   "metadata": {},
   "source": [
    "# Model on cropped images"
   ]
  },
  {
   "cell_type": "code",
   "execution_count": 3,
   "metadata": {},
   "outputs": [],
   "source": [
    "hj=pd.read_csv('stage_2_train_labels.csv')\n"
   ]
  },
  {
   "cell_type": "code",
   "execution_count": 5,
   "metadata": {},
   "outputs": [],
   "source": [
    "p=hj.drop_duplicates('patientId')\n"
   ]
  },
  {
   "cell_type": "code",
   "execution_count": 6,
   "metadata": {},
   "outputs": [
    {
     "name": "stdout",
     "output_type": "stream",
     "text": [
      "18 25 112 100\n"
     ]
    }
   ],
   "source": [
    "# by studying the distribution of the box centres we found that most of the boxes lies in this range\n",
    "x1=int(150*128/1024)\n",
    "x2=int(900*128/1024)\n",
    "y1=int(200*128/1024)\n",
    "y2=int(800*128/1024)\n",
    "print(x1,y1,x2,y2)"
   ]
  },
  {
   "cell_type": "code",
   "execution_count": 7,
   "metadata": {},
   "outputs": [
    {
     "name": "stderr",
     "output_type": "stream",
     "text": [
      "26684it [11:27, 38.82it/s]\n"
     ]
    }
   ],
   "source": [
    "# cropping and storing image\n",
    "from tqdm import tqdm\n",
    "dat=[]\n",
    "i=0\n",
    "for n, pid in tqdm(enumerate(p['patientId'])):\n",
    "        if i<50000:\n",
    "            dcm_file = 'stage_2_train_images/%s.dcm' % pid\n",
    "            dcm_data = pydicom.read_file(dcm_file)\n",
    "            dcm_data1=dcm_data.pixel_array\n",
    "            img = cv2.resize(dcm_data1, dsize = (128,128))\n",
    "            #hg=np.reshape(img,(128*128))\n",
    "            dat.append(img[x1:x2,y1:y2])\n",
    "            i=i+1\n",
    "        else:\n",
    "            break"
   ]
  },
  {
   "cell_type": "code",
   "execution_count": 8,
   "metadata": {},
   "outputs": [],
   "source": [
    "dat=np.array(dat)"
   ]
  },
  {
   "cell_type": "code",
   "execution_count": 9,
   "metadata": {},
   "outputs": [
    {
     "data": {
      "text/plain": [
       "(26684, 94, 75)"
      ]
     },
     "execution_count": 9,
     "metadata": {},
     "output_type": "execute_result"
    }
   ],
   "source": [
    "dat.shape"
   ]
  },
  {
   "cell_type": "code",
   "execution_count": 13,
   "metadata": {},
   "outputs": [],
   "source": [
    "# loading target\n",
    "y=p['Target']"
   ]
  },
  {
   "cell_type": "code",
   "execution_count": 14,
   "metadata": {},
   "outputs": [],
   "source": [
    "# normalising\n",
    "k=dat/255.0"
   ]
  },
  {
   "cell_type": "code",
   "execution_count": null,
   "metadata": {},
   "outputs": [],
   "source": [
    "def create_network1(input_size, channels, n_blocks=2, depth=4):\n",
    "    # input\n",
    "    inputs = keras.Input(shape=(input_size, input_size, 1))\n",
    "    x = keras.layers.Conv2D(channels, 3, padding='same', use_bias=False)(inputs)\n",
    "    x = keras.layers.BatchNormalization(momentum=0.9)(x)\n",
    "    x = keras.layers.LeakyReLU(0)(x)\n",
    "    x = keras.layers.MaxPooling2D()(x)\n",
    "    x = keras.layers.Conv2D(128, 1, activation=None)(x)\n",
    "    x = keras.layers.BatchNormalization(momentum=0.9)(x)\n",
    "    x = keras.layers.LeakyReLU(0)(x)\n",
    "    x = keras.layers.MaxPooling2D()(x)\n",
    "    x = keras.layers.Conv2D(3, 1, activation=None)(x)\n",
    "    x = keras.layers.BatchNormalization(momentum=0.9)(x)\n",
    "    x = keras.layers.LeakyReLU(0)(x)\n",
    "    x = keras.layers.MaxPooling2D()(x)\n",
    "    x = keras.layers.Flatten()(x)\n",
    "    x = keras.layers.Dense(1,activation='sigmoid')(x)\n",
    "    model = keras.Model(inputs=inputs, outputs=x)\n",
    "    return model"
   ]
  },
  {
   "cell_type": "code",
   "execution_count": 16,
   "metadata": {},
   "outputs": [],
   "source": [
    "# creating model\n",
    "Cmodel2= create_network1(input_size=128, channels=32, n_blocks=2, depth=4)\n",
    "Cmodel2.compile(optimizer='adam',\n",
    "              loss='binary_crossentropy',\n",
    "              metrics=['accuracy'])"
   ]
  },
  {
   "cell_type": "code",
   "execution_count": 17,
   "metadata": {},
   "outputs": [],
   "source": [
    "# splitting data\n",
    "from sklearn.model_selection import train_test_split\n",
    "XX,xt,YY,yt=train_test_split(k,y,test_size=0.1,random_state=1)"
   ]
  },
  {
   "cell_type": "code",
   "execution_count": 18,
   "metadata": {},
   "outputs": [
    {
     "name": "stdout",
     "output_type": "stream",
     "text": [
      "Epoch 1/50\n",
      "751/751 [==============================] - 186s 248ms/step - loss: 0.4627 - accuracy: 0.7865 - val_loss: 0.4428 - val_accuracy: 0.7988 - lr: 0.0010\n",
      "Epoch 2/50\n",
      "751/751 [==============================] - 186s 248ms/step - loss: 0.4437 - accuracy: 0.7946 - val_loss: 0.4442 - val_accuracy: 0.7924 - lr: 9.9901e-04\n",
      "Epoch 3/50\n",
      "751/751 [==============================] - 178s 237ms/step - loss: 0.4389 - accuracy: 0.7975 - val_loss: 0.4340 - val_accuracy: 0.7969 - lr: 9.9606e-04\n",
      "Epoch 4/50\n",
      "751/751 [==============================] - 180s 239ms/step - loss: 0.4346 - accuracy: 0.7975 - val_loss: 0.4429 - val_accuracy: 0.7951 - lr: 9.9114e-04\n",
      "Epoch 5/50\n",
      "751/751 [==============================] - 180s 239ms/step - loss: 0.4307 - accuracy: 0.8011 - val_loss: 0.5698 - val_accuracy: 0.6954 - lr: 9.8429e-04\n",
      "Epoch 6/50\n",
      "751/751 [==============================] - 180s 240ms/step - loss: 0.4281 - accuracy: 0.8014 - val_loss: 0.4429 - val_accuracy: 0.7984 - lr: 9.7553e-04\n",
      "Epoch 7/50\n",
      "751/751 [==============================] - 183s 243ms/step - loss: 0.4252 - accuracy: 0.8017 - val_loss: 0.4369 - val_accuracy: 0.7954 - lr: 9.6489e-04\n",
      "Epoch 8/50\n",
      "751/751 [==============================] - 181s 242ms/step - loss: 0.4214 - accuracy: 0.8048 - val_loss: 0.4311 - val_accuracy: 0.7981 - lr: 9.5241e-04\n",
      "Epoch 9/50\n",
      "751/751 [==============================] - 185s 247ms/step - loss: 0.4182 - accuracy: 0.8040 - val_loss: 0.4478 - val_accuracy: 0.8018 - lr: 9.3815e-04\n",
      "Epoch 10/50\n",
      "751/751 [==============================] - 184s 245ms/step - loss: 0.4158 - accuracy: 0.8071 - val_loss: 0.4209 - val_accuracy: 0.8097 - lr: 9.2216e-04\n",
      "Epoch 11/50\n",
      "751/751 [==============================] - 183s 244ms/step - loss: 0.4161 - accuracy: 0.8059 - val_loss: 0.4230 - val_accuracy: 0.8059 - lr: 9.0451e-04\n",
      "Epoch 12/50\n",
      "751/751 [==============================] - 187s 250ms/step - loss: 0.4123 - accuracy: 0.8098 - val_loss: 0.4248 - val_accuracy: 0.8029 - lr: 8.8526e-04\n",
      "Epoch 13/50\n",
      "751/751 [==============================] - 181s 240ms/step - loss: 0.4093 - accuracy: 0.8091 - val_loss: 0.4491 - val_accuracy: 0.7864 - lr: 8.6448e-04\n",
      "Epoch 14/50\n",
      "751/751 [==============================] - 180s 239ms/step - loss: 0.4083 - accuracy: 0.8109 - val_loss: 0.4337 - val_accuracy: 0.8085 - lr: 8.4227e-04\n",
      "Epoch 15/50\n",
      "751/751 [==============================] - 180s 240ms/step - loss: 0.4068 - accuracy: 0.8111 - val_loss: 0.4886 - val_accuracy: 0.7621 - lr: 8.1871e-04\n",
      "Epoch 16/50\n",
      "751/751 [==============================] - 179s 238ms/step - loss: 0.4054 - accuracy: 0.8125 - val_loss: 0.4340 - val_accuracy: 0.8018 - lr: 7.9389e-04\n",
      "Epoch 17/50\n",
      "751/751 [==============================] - 179s 239ms/step - loss: 0.4022 - accuracy: 0.8161 - val_loss: 0.4729 - val_accuracy: 0.7759 - lr: 7.6791e-04\n",
      "Epoch 18/50\n",
      "751/751 [==============================] - 178s 237ms/step - loss: 0.4015 - accuracy: 0.8146 - val_loss: 0.4236 - val_accuracy: 0.8078 - lr: 7.4088e-04\n",
      "Epoch 19/50\n",
      "751/751 [==============================] - 181s 241ms/step - loss: 0.3996 - accuracy: 0.8169 - val_loss: 0.4223 - val_accuracy: 0.8119 - lr: 7.1289e-04\n",
      "Epoch 20/50\n",
      "751/751 [==============================] - 174s 231ms/step - loss: 0.3855 - accuracy: 0.8222 - val_loss: 0.4125 - val_accuracy: 0.8100 - lr: 4.3733e-04\n",
      "Epoch 29/50\n",
      "751/751 [==============================] - 188s 250ms/step - loss: 0.3852 - accuracy: 0.8248 - val_loss: 0.4162 - val_accuracy: 0.8089 - lr: 4.0631e-04\n",
      "Epoch 30/50\n",
      "751/751 [==============================] - 159s 211ms/step - loss: 0.3741 - accuracy: 0.8287 - val_loss: 0.4236 - val_accuracy: 0.8115 - lr: 2.0611e-04\n",
      "Epoch 37/50\n",
      "751/751 [==============================] - 161s 214ms/step - loss: 0.3665 - accuracy: 0.8340 - val_loss: 0.4142 - val_accuracy: 0.8130 - lr: 2.4472e-05\n",
      "Epoch 47/50\n",
      "751/751 [==============================] - 161s 215ms/step - loss: 0.3666 - accuracy: 0.8336 - val_loss: 0.4149 - val_accuracy: 0.8134 - lr: 1.5708e-05\n",
      "Epoch 48/50\n",
      "748/751 [============================>.] - ETA: 0s - loss: 0.3662 - accuracy: 0.8336"
     ]
    }
   ],
   "source": [
    "# cosine learning rate annealing\n",
    "def cosine_annealing(x):\n",
    "    lr = 0.001\n",
    "    epochs = 50\n",
    "    return lr*(np.cos(np.pi*x/epochs)+1.)/2\n",
    "learning_rate = tf.keras.callbacks.LearningRateScheduler(cosine_annealing)\n",
    "\n",
    "class_weight={0:1,1:3}\n",
    "history=Cmodel2.fit(XX,YY,verbose=1,epochs=50,callbacks=[learning_rate],validation_data=(xt, yt))\n"
   ]
  },
  {
   "cell_type": "code",
   "execution_count": 19,
   "metadata": {},
   "outputs": [],
   "source": [
    "Cmodel2.save_weights('cropmodels50epochs.h5')"
   ]
  },
  {
   "cell_type": "code",
   "execution_count": 20,
   "metadata": {},
   "outputs": [],
   "source": [
    "kk=pd.DataFrame({'loss':history.history[\"loss\"],'val_loss':history.history[\"val_loss\"],\n",
    "                 'accuracy':history.history[\"accuracy\"],'val_acc':history.history[\"val_accuracy\"]})\n"
   ]
  },
  {
   "cell_type": "code",
   "execution_count": 21,
   "metadata": {},
   "outputs": [],
   "source": [
    "kk.to_csv('historys50epochs.csv')"
   ]
  },
  {
   "cell_type": "code",
   "execution_count": 22,
   "metadata": {},
   "outputs": [],
   "source": [
    "y_pred=Cmodel2.predict(xt)"
   ]
  },
  {
   "cell_type": "code",
   "execution_count": 23,
   "metadata": {},
   "outputs": [],
   "source": [
    "# prediction\n",
    "pred_y=[]\n",
    "for i in y_pred:\n",
    "    if i>=0.5:\n",
    "        pred_y.append(1)\n",
    "    else:\n",
    "        pred_y.append(0)"
   ]
  },
  {
   "cell_type": "code",
   "execution_count": 24,
   "metadata": {},
   "outputs": [
    {
     "name": "stdout",
     "output_type": "stream",
     "text": [
      "              precision    recall  f1-score   support\n",
      "\n",
      "           0       0.85      0.92      0.89      2094\n",
      "           1       0.60      0.42      0.50       575\n",
      "\n",
      "    accuracy                           0.82      2669\n",
      "   macro avg       0.73      0.67      0.69      2669\n",
      "weighted avg       0.80      0.82      0.80      2669\n",
      "\n"
     ]
    }
   ],
   "source": [
    "# printing classificaiton score\n",
    "from sklearn.metrics import roc_curve,auc,precision_recall_curve,classification_report\n",
    "print(classification_report(yt,pred_y))"
   ]
  },
  {
   "cell_type": "code",
   "execution_count": 25,
   "metadata": {},
   "outputs": [],
   "source": [
    "# sensitivity study\n",
    "def evaluate_threshold(threshold):\n",
    "    Sensitivity=tpr[thresholds > threshold][-1]\n",
    "    Specificity= 1 - fpr[thresholds > threshold][-1]\n",
    "    return Sensitivity,Specificity"
   ]
  },
  {
   "cell_type": "code",
   "execution_count": 26,
   "metadata": {},
   "outputs": [
    {
     "data": {
      "image/png": "[encoded data removed]",
      "text/plain": [
       "<Figure size 432x288 with 1 Axes>"
      ]
     },
     "metadata": {
      "needs_background": "light"
     },
     "output_type": "display_data"
    }
   ],
   "source": [
    "# ROC curve\n",
    "from sklearn import metrics\n",
    "\n",
    "import matplotlib.pyplot as plt\n",
    "fpr, tpr, thresholds = metrics.roc_curve(yt, y_pred)\n",
    "\n",
    "plt.plot(fpr, tpr)\n",
    "plt.xlim([0.0, 1.0])\n",
    "plt.ylim([0.0, 1.0])\n",
    "plt.title('ROC curve')\n",
    "plt.xlabel('False Positive Rate (1 - Specificity)')\n",
    "plt.ylabel('True Positive Rate (Sensitivity)')\n",
    "plt.plot(fpr,fpr,linestyle='--',color='black')\n",
    "plt.grid(True)"
   ]
  },
  {
   "cell_type": "code",
   "execution_count": 27,
   "metadata": {},
   "outputs": [
    {
     "data": {
      "text/html": [
       "<div>\n",
       "<style scoped>\n",
       "    .dataframe tbody tr th:only-of-type {\n",
       "        vertical-align: middle;\n",
       "    }\n",
       "\n",
       "    .dataframe tbody tr th {\n",
       "        vertical-align: top;\n",
       "    }\n",
       "\n",
       "    .dataframe thead th {\n",
       "        text-align: right;\n",
       "    }\n",
       "</style>\n",
       "<table border=\"1\" class=\"dataframe\">\n",
       "  <thead>\n",
       "    <tr style=\"text-align: right;\">\n",
       "      <th></th>\n",
       "      <th>Sensitivity</th>\n",
       "      <th>Specificity</th>\n",
       "    </tr>\n",
       "  </thead>\n",
       "  <tbody>\n",
       "    <tr>\n",
       "      <th>0.1</th>\n",
       "      <td>0.873043</td>\n",
       "      <td>0.572111</td>\n",
       "    </tr>\n",
       "    <tr>\n",
       "      <th>0.2</th>\n",
       "      <td>0.751304</td>\n",
       "      <td>0.730181</td>\n",
       "    </tr>\n",
       "    <tr>\n",
       "      <th>0.3</th>\n",
       "      <td>0.653913</td>\n",
       "      <td>0.816619</td>\n",
       "    </tr>\n",
       "    <tr>\n",
       "      <th>0.4</th>\n",
       "      <td>0.530435</td>\n",
       "      <td>0.875358</td>\n",
       "    </tr>\n",
       "    <tr>\n",
       "      <th>0.5</th>\n",
       "      <td>0.422609</td>\n",
       "      <td>0.924069</td>\n",
       "    </tr>\n",
       "    <tr>\n",
       "      <th>0.6</th>\n",
       "      <td>0.295652</td>\n",
       "      <td>0.952722</td>\n",
       "    </tr>\n",
       "    <tr>\n",
       "      <th>0.7</th>\n",
       "      <td>0.220870</td>\n",
       "      <td>0.974212</td>\n",
       "    </tr>\n",
       "    <tr>\n",
       "      <th>0.8</th>\n",
       "      <td>0.107826</td>\n",
       "      <td>0.988539</td>\n",
       "    </tr>\n",
       "    <tr>\n",
       "      <th>0.9</th>\n",
       "      <td>0.029565</td>\n",
       "      <td>0.998567</td>\n",
       "    </tr>\n",
       "  </tbody>\n",
       "</table>\n",
       "</div>"
      ],
      "text/plain": [
       "     Sensitivity  Specificity\n",
       "0.1     0.873043     0.572111\n",
       "0.2     0.751304     0.730181\n",
       "0.3     0.653913     0.816619\n",
       "0.4     0.530435     0.875358\n",
       "0.5     0.422609     0.924069\n",
       "0.6     0.295652     0.952722\n",
       "0.7     0.220870     0.974212\n",
       "0.8     0.107826     0.988539\n",
       "0.9     0.029565     0.998567"
      ]
     },
     "metadata": {},
     "output_type": "display_data"
    }
   ],
   "source": [
    "i=[0.1,0.2,0.3,0.4,0.5,0.6,0.7,0.8,0.9]\n",
    "da=pd.DataFrame({})\n",
    "for j in i:\n",
    "    sen,spec=evaluate_threshold(j)\n",
    "    da=da.append(pd.DataFrame({'Sensitivity':sen,'Specificity':spec},index=[j]))\n",
    "display(da)"
   ]
  },
  {
   "cell_type": "code",
   "execution_count": 28,
   "metadata": {},
   "outputs": [
    {
     "name": "stdout",
     "output_type": "stream",
     "text": [
      "0.8111432249491302\n"
     ]
    }
   ],
   "source": [
    "from sklearn import metrics\n",
    "print(metrics.roc_auc_score(yt, y_pred))"
   ]
  },
  {
   "cell_type": "markdown",
   "metadata": {},
   "source": [
    "The area under the curve is 0.811 which is higher than when this model was trained on full image. thus croppig increase auc"
   ]
  },
  {
   "cell_type": "markdown",
   "metadata": {},
   "source": [
    "# NORMAL : 0,  OTHERS :1 "
   ]
  },
  {
   "cell_type": "markdown",
   "metadata": {},
   "source": [
    "**We doubted that the model with class lung opacity and no lung opacity / not normal might share more common features between theself than with the class normal thus we labelled these two class as 1 and normal as 0 and built a model**"
   ]
  },
  {
   "cell_type": "code",
   "execution_count": 12,
   "metadata": {},
   "outputs": [],
   "source": [
    "y=p['class'].replace({'Normal':0,'Lung Opacity':1,'No Lung Opacity / Not Normal':1})"
   ]
  },
  {
   "cell_type": "code",
   "execution_count": 13,
   "metadata": {},
   "outputs": [
    {
     "data": {
      "text/plain": [
       "array([1, 0])"
      ]
     },
     "execution_count": 13,
     "metadata": {},
     "output_type": "execute_result"
    }
   ],
   "source": [
    "y.unique()"
   ]
  },
  {
   "cell_type": "code",
   "execution_count": 16,
   "metadata": {},
   "outputs": [],
   "source": [
    "model3= create_network1(input_size=128, channels=32, n_blocks=2, depth=4)\n",
    "model3.compile(optimizer='adam',\n",
    "              loss='binary_crossentropy',\n",
    "              metrics=['accuracy'])"
   ]
  },
  {
   "cell_type": "code",
   "execution_count": 17,
   "metadata": {},
   "outputs": [],
   "source": [
    "from sklearn.model_selection import train_test_split\n",
    "XX,xt,YY,yt=train_test_split(dat,y,test_size=0.1,random_state=1)"
   ]
  },
  {
   "cell_type": "code",
   "execution_count": 18,
   "metadata": {},
   "outputs": [],
   "source": [
    "# cosine learning rate annealing\n",
    "def cosine_annealing(x):\n",
    "    lr = 0.001\n",
    "    epochs = 50\n",
    "    return lr*(np.cos(np.pi*x/epochs)+1.)/2\n",
    "learning_rate = tf.keras.callbacks.LearningRateScheduler(cosine_annealing)\n",
    "\n",
    "class_weight={0:1,1:3}\n",
    "history=model3.fit(XX,YY,verbose=0,epochs=50,callbacks=[learning_rate],validation_data=(xt, yt))\n"
   ]
  },
  {
   "cell_type": "code",
   "execution_count": 19,
   "metadata": {},
   "outputs": [],
   "source": [
    "model3.save_weights('Fmodel50epochs.h5')"
   ]
  },
  {
   "cell_type": "code",
   "execution_count": 20,
   "metadata": {},
   "outputs": [],
   "source": [
    "kk=pd.DataFrame({'loss':history.history[\"loss\"],'val_loss':history.history[\"val_loss\"],\n",
    "                 'accuracy':history.history[\"accuracy\"],'val_acc':history.history[\"val_accuracy\"]})\n"
   ]
  },
  {
   "cell_type": "code",
   "execution_count": 21,
   "metadata": {},
   "outputs": [],
   "source": [
    "kk.to_csv('Fhistory50epochs.csv')"
   ]
  },
  {
   "cell_type": "code",
   "execution_count": 22,
   "metadata": {},
   "outputs": [],
   "source": [
    "# predicting class for validation data\n",
    "y_pred=model3.predict(xt)"
   ]
  },
  {
   "cell_type": "code",
   "execution_count": 23,
   "metadata": {},
   "outputs": [],
   "source": [
    "pred_y=[]\n",
    "for i in y_pred:\n",
    "    if i>=0.5:\n",
    "        pred_y.append(1)\n",
    "    else:\n",
    "        pred_y.append(0)"
   ]
  },
  {
   "cell_type": "code",
   "execution_count": 24,
   "metadata": {},
   "outputs": [
    {
     "name": "stdout",
     "output_type": "stream",
     "text": [
      "              precision    recall  f1-score   support\n",
      "\n",
      "           0       0.72      0.74      0.73       877\n",
      "           1       0.87      0.86      0.86      1792\n",
      "\n",
      "    accuracy                           0.82      2669\n",
      "   macro avg       0.79      0.80      0.80      2669\n",
      "weighted avg       0.82      0.82      0.82      2669\n",
      "\n"
     ]
    }
   ],
   "source": [
    "# classificaiton report\n",
    "from sklearn.metrics import roc_curve,auc,precision_recall_curve,classification_report\n",
    "print(classification_report(yt,pred_y))"
   ]
  },
  {
   "cell_type": "code",
   "execution_count": 25,
   "metadata": {},
   "outputs": [
    {
     "name": "stdout",
     "output_type": "stream",
     "text": [
      "0.891741707729272\n"
     ]
    }
   ],
   "source": [
    "# area under the curve\n",
    "from sklearn import metrics\n",
    "print(metrics.roc_auc_score(yt, y_pred))"
   ]
  },
  {
   "cell_type": "code",
   "execution_count": 26,
   "metadata": {},
   "outputs": [],
   "source": [
    "def evaluate_threshold(threshold):\n",
    "    Sensitivity=tpr[thresholds > threshold][-1]\n",
    "    Specificity= 1 - fpr[thresholds > threshold][-1]\n",
    "    return Sensitivity,Specificity"
   ]
  },
  {
   "cell_type": "code",
   "execution_count": 27,
   "metadata": {},
   "outputs": [
    {
     "data": {
      "image/png": "[encoded data removed]",
      "text/plain": [
       "<Figure size 432x288 with 1 Axes>"
      ]
     },
     "metadata": {
      "needs_background": "light"
     },
     "output_type": "display_data"
    }
   ],
   "source": [
    "# IMPORTANT: first argument is true values, second argument is predicted probabilities\n",
    "\n",
    "import matplotlib.pyplot as plt\n",
    "fpr, tpr, thresholds = metrics.roc_curve(yt, y_pred)\n",
    "\n",
    "plt.plot(fpr, tpr)\n",
    "plt.xlim([0.0, 1.0])\n",
    "plt.ylim([0.0, 1.0])\n",
    "plt.title('ROC curve')\n",
    "plt.xlabel('False Positive Rate (1 - Specificity)')\n",
    "plt.ylabel('True Positive Rate (Sensitivity)')\n",
    "plt.plot(fpr,fpr,linestyle='--',color='black')\n",
    "plt.grid(True)"
   ]
  },
  {
   "cell_type": "code",
   "execution_count": 28,
   "metadata": {
    "scrolled": true
   },
   "outputs": [
    {
     "data": {
      "text/html": [
       "<div>\n",
       "<style scoped>\n",
       "    .dataframe tbody tr th:only-of-type {\n",
       "        vertical-align: middle;\n",
       "    }\n",
       "\n",
       "    .dataframe tbody tr th {\n",
       "        vertical-align: top;\n",
       "    }\n",
       "\n",
       "    .dataframe thead th {\n",
       "        text-align: right;\n",
       "    }\n",
       "</style>\n",
       "<table border=\"1\" class=\"dataframe\">\n",
       "  <thead>\n",
       "    <tr style=\"text-align: right;\">\n",
       "      <th></th>\n",
       "      <th>Sensitivity</th>\n",
       "      <th>Specificity</th>\n",
       "    </tr>\n",
       "  </thead>\n",
       "  <tbody>\n",
       "    <tr>\n",
       "      <th>0.1</th>\n",
       "      <td>0.983259</td>\n",
       "      <td>0.253136</td>\n",
       "    </tr>\n",
       "    <tr>\n",
       "      <th>0.2</th>\n",
       "      <td>0.956473</td>\n",
       "      <td>0.453820</td>\n",
       "    </tr>\n",
       "    <tr>\n",
       "      <th>0.3</th>\n",
       "      <td>0.929688</td>\n",
       "      <td>0.572406</td>\n",
       "    </tr>\n",
       "    <tr>\n",
       "      <th>0.4</th>\n",
       "      <td>0.900112</td>\n",
       "      <td>0.653364</td>\n",
       "    </tr>\n",
       "    <tr>\n",
       "      <th>0.5</th>\n",
       "      <td>0.855469</td>\n",
       "      <td>0.742303</td>\n",
       "    </tr>\n",
       "    <tr>\n",
       "      <th>0.6</th>\n",
       "      <td>0.819754</td>\n",
       "      <td>0.803877</td>\n",
       "    </tr>\n",
       "    <tr>\n",
       "      <th>0.7</th>\n",
       "      <td>0.766741</td>\n",
       "      <td>0.857469</td>\n",
       "    </tr>\n",
       "    <tr>\n",
       "      <th>0.8</th>\n",
       "      <td>0.686942</td>\n",
       "      <td>0.912201</td>\n",
       "    </tr>\n",
       "    <tr>\n",
       "      <th>0.9</th>\n",
       "      <td>0.569754</td>\n",
       "      <td>0.958951</td>\n",
       "    </tr>\n",
       "  </tbody>\n",
       "</table>\n",
       "</div>"
      ],
      "text/plain": [
       "     Sensitivity  Specificity\n",
       "0.1     0.983259     0.253136\n",
       "0.2     0.956473     0.453820\n",
       "0.3     0.929688     0.572406\n",
       "0.4     0.900112     0.653364\n",
       "0.5     0.855469     0.742303\n",
       "0.6     0.819754     0.803877\n",
       "0.7     0.766741     0.857469\n",
       "0.8     0.686942     0.912201\n",
       "0.9     0.569754     0.958951"
      ]
     },
     "metadata": {},
     "output_type": "display_data"
    }
   ],
   "source": [
    "i=[0.1,0.2,0.3,0.4,0.5,0.6,0.7,0.8,0.9]\n",
    "da=pd.DataFrame({})\n",
    "for j in i:\n",
    "    sen,spec=evaluate_threshold(j)\n",
    "    da=da.append(pd.DataFrame({'Sensitivity':sen,'Specificity':spec},index=[j]))\n",
    "display(da)    "
   ]
  },
  {
   "cell_type": "markdown",
   "metadata": {},
   "source": [
    "The auc of this model high around 0.89. this confirm us that the dataset with class \"lung opacity\" and \"no lung opacity/ Not normal\" share more similarities with in themself than with class \"Normal\""
   ]
  },
  {
   "cell_type": "markdown",
   "metadata": {},
   "source": [
    "# **Multi class classification**"
   ]
  },
  {
   "cell_type": "code",
   "execution_count": null,
   "metadata": {},
   "outputs": [],
   "source": [
    "hj=pd.read_csv('stage_2_train_class_info.csv')"
   ]
  },
  {
   "cell_type": "code",
   "execution_count": null,
   "metadata": {},
   "outputs": [],
   "source": [
    "# Samples with class as Normal'\n",
    "normal=hf[hf['class']=='Normal']\n",
    "print(len(normal))\n"
   ]
  },
  {
   "cell_type": "code",
   "execution_count": null,
   "metadata": {},
   "outputs": [],
   "source": [
    "# Samples with class as No Lung Opacity / Not Normal\n",
    "nnormal=hf[hf['class']=='No Lung Opacity / Not Normal']\n",
    "print(len(nnormal))\n"
   ]
  },
  {
   "cell_type": "code",
   "execution_count": 9,
   "metadata": {},
   "outputs": [],
   "source": [
    "# Samples with class as lung opacity\n",
    "positive=hf[hf['class']=='Lung Opacity']\n",
    "unique_positive=positive[['path','patientId']]\n",
    "path=unique_positive['path'].unique()\n",
    "patientId=unique_positive['patientId'].unique()"
   ]
  },
  {
   "cell_type": "code",
   "execution_count": 10,
   "metadata": {},
   "outputs": [],
   "source": [
    "# creating a dictionary for path and patientID\n",
    "unique_positive=pd.DataFrame({'path':path,'patientId':patientId})"
   ]
  },
  {
   "cell_type": "code",
   "execution_count": 11,
   "metadata": {},
   "outputs": [],
   "source": [
    "# Creating directories\n",
    "os.mkdir('/data1')\n",
    "\n",
    "os.mkdir('/data1/normal')\n",
    "\n",
    "os.mkdir('/data1/no lungopacity and not normal') \n",
    "\n",
    "os.mkdir('/data1/lung opcaity')\n"
   ]
  },
  {
   "cell_type": "code",
   "execution_count": 13,
   "metadata": {},
   "outputs": [
    {
     "name": "stderr",
     "output_type": "stream",
     "text": [
      "6012it [06:07, 16.37it/s]\n"
     ]
    }
   ],
   "source": [
    "# Reading dicom file and converting and storing the pixel pixel array data as jpg image with patientID as file name in lung opacity folder\n",
    "for _,row in tqdm(unique_positive.iterrows()):\n",
    "    img=dicom.read_file(row['path']).pixel_array\n",
    "    img=resize(img,(256,256))\n",
    "    plt.imsave('data1/lung opcaity/'+row['patientId']+'.jpg',img,cmap='gray')"
   ]
  },
  {
   "cell_type": "code",
   "execution_count": 14,
   "metadata": {},
   "outputs": [
    {
     "name": "stderr",
     "output_type": "stream",
     "text": [
      "11821it [11:56, 16.50it/s]\n"
     ]
    }
   ],
   "source": [
    "# Reading dicom file and converting and storing the pixel pixel array data as jpg image with patientID as file name in no lungopacity and not normal folder\n",
    "for _,row in tqdm(nnormal.iterrows()):\n",
    "    img=dicom.read_file(row['path']).pixel_array\n",
    "    img=resize(img,(256,256))\n",
    "    plt.imsave('data1/no lungopacity and not normal/'+row['patientId']+'.jpg',img,cmap='gray')"
   ]
  },
  {
   "cell_type": "code",
   "execution_count": 15,
   "metadata": {},
   "outputs": [
    {
     "name": "stderr",
     "output_type": "stream",
     "text": [
      "8851it [09:12, 16.02it/s]\n"
     ]
    }
   ],
   "source": [
    "# Reading dicom file and converting and storing the pixel pixel array data as jpg image with patientID as file name in normal folder\n",
    "for _,row in tqdm(normal.iterrows()):\n",
    "    img=dicom.read_file(row['path']).pixel_array\n",
    "    img=resize(img,(256,256))\n",
    "    plt.imsave('data1/normal/'+row['patientId']+'.jpg',img,cmap='gray')"
   ]
  },
  {
   "cell_type": "markdown",
   "metadata": {},
   "source": [
    "# **Training**"
   ]
  },
  {
   "cell_type": "code",
   "execution_count": 16,
   "metadata": {},
   "outputs": [],
   "source": [
    "from tensorflow.keras.applications.mobilenet import MobileNet, preprocess_input"
   ]
  },
  {
   "cell_type": "code",
   "execution_count": 17,
   "metadata": {},
   "outputs": [],
   "source": [
    "# creating mobilenet model and assigning layers as non trainable\n",
    "def create_model(trainable=True):\n",
    "    model = MobileNet(input_shape=(256, 256, 3), include_top=False, alpha=1, weights=\"imagenet\")\n",
    "    OO=0\n",
    "    for layer in model.layers:\n",
    "        layer.trainable = False\n",
    "    return model        "
   ]
  },
  {
   "cell_type": "code",
   "execution_count": 18,
   "metadata": {},
   "outputs": [
    {
     "name": "stdout",
     "output_type": "stream",
     "text": [
      "Downloading data from https://storage.googleapis.com/tensorflow/keras-applications/mobilenet/mobilenet_1_0_224_tf_no_top.h5\n",
      "17227776/17225924 [==============================] - 0s 0us/step\n"
     ]
    }
   ],
   "source": [
    "Mmodel=create_model()"
   ]
  },
  {
   "cell_type": "code",
   "execution_count": 19,
   "metadata": {},
   "outputs": [
    {
     "name": "stdout",
     "output_type": "stream",
     "text": [
      "Model: \"mobilenet_1.00_224\"\n",
      "_________________________________________________________________\n",
      "Layer (type)                 Output Shape              Param #   \n",
      "=================================================================\n",
      "input_1 (InputLayer)         [(None, 256, 256, 3)]     0         \n",
      "_________________________________________________________________\n",
      "conv1_pad (ZeroPadding2D)    (None, 257, 257, 3)       0         \n",
      "_________________________________________________________________\n",
      "conv1 (Conv2D)               (None, 128, 128, 32)      864       \n",
      "_________________________________________________________________\n",
      "conv1_bn (BatchNormalization (None, 128, 128, 32)      128       \n",
      "_________________________________________________________________\n",
      "conv1_relu (ReLU)            (None, 128, 128, 32)      0         \n",
      "_________________________________________________________________\n",
      "conv_dw_1 (DepthwiseConv2D)  (None, 128, 128, 32)      288       \n",
      "_________________________________________________________________\n",
      "conv_dw_1_bn (BatchNormaliza (None, 128, 128, 32)      128       \n",
      "_________________________________________________________________\n",
      "conv_dw_1_relu (ReLU)        (None, 128, 128, 32)      0         \n",
      "_________________________________________________________________\n",
      "conv_pw_1 (Conv2D)           (None, 128, 128, 64)      2048      \n",
      "_________________________________________________________________\n",
      "conv_pw_1_bn (BatchNormaliza (None, 128, 128, 64)      256       \n",
      "_________________________________________________________________\n",
      "conv_pw_1_relu (ReLU)        (None, 128, 128, 64)      0         \n",
      "_________________________________________________________________\n",
      "conv_pad_2 (ZeroPadding2D)   (None, 129, 129, 64)      0         \n",
      "_________________________________________________________________\n",
      "conv_dw_2 (DepthwiseConv2D)  (None, 64, 64, 64)        576       \n",
      "_________________________________________________________________\n",
      "conv_dw_2_bn (BatchNormaliza (None, 64, 64, 64)        256       \n",
      "_________________________________________________________________\n",
      "conv_dw_2_relu (ReLU)        (None, 64, 64, 64)        0         \n",
      "_________________________________________________________________\n",
      "conv_pw_2 (Conv2D)           (None, 64, 64, 128)       8192      \n",
      "_________________________________________________________________\n",
      "conv_pw_2_bn (BatchNormaliza (None, 64, 64, 128)       512       \n",
      "_________________________________________________________________\n",
      "conv_pw_2_relu (ReLU)        (None, 64, 64, 128)       0         \n",
      "_________________________________________________________________\n",
      "conv_dw_3 (DepthwiseConv2D)  (None, 64, 64, 128)       1152      \n",
      "_________________________________________________________________\n",
      "conv_dw_3_bn (BatchNormaliza (None, 64, 64, 128)       512       \n",
      "_________________________________________________________________\n",
      "conv_dw_3_relu (ReLU)        (None, 64, 64, 128)       0         \n",
      "_________________________________________________________________\n",
      "conv_pw_3 (Conv2D)           (None, 64, 64, 128)       16384     \n",
      "_________________________________________________________________\n",
      "conv_pw_3_bn (BatchNormaliza (None, 64, 64, 128)       512       \n",
      "_________________________________________________________________\n",
      "conv_pw_3_relu (ReLU)        (None, 64, 64, 128)       0         \n",
      "_________________________________________________________________\n",
      "conv_pad_4 (ZeroPadding2D)   (None, 65, 65, 128)       0         \n",
      "_________________________________________________________________\n",
      "conv_dw_4 (DepthwiseConv2D)  (None, 32, 32, 128)       1152      \n",
      "_________________________________________________________________\n",
      "conv_dw_4_bn (BatchNormaliza (None, 32, 32, 128)       512       \n",
      "_________________________________________________________________\n",
      "conv_dw_4_relu (ReLU)        (None, 32, 32, 128)       0         \n",
      "_________________________________________________________________\n",
      "conv_pw_4 (Conv2D)           (None, 32, 32, 256)       32768     \n",
      "_________________________________________________________________\n",
      "conv_pw_4_bn (BatchNormaliza (None, 32, 32, 256)       1024      \n",
      "_________________________________________________________________\n",
      "conv_pw_4_relu (ReLU)        (None, 32, 32, 256)       0         \n",
      "_________________________________________________________________\n",
      "conv_dw_5 (DepthwiseConv2D)  (None, 32, 32, 256)       2304      \n",
      "_________________________________________________________________\n",
      "conv_dw_5_bn (BatchNormaliza (None, 32, 32, 256)       1024      \n",
      "_________________________________________________________________\n",
      "conv_dw_5_relu (ReLU)        (None, 32, 32, 256)       0         \n",
      "_________________________________________________________________\n",
      "conv_pw_5 (Conv2D)           (None, 32, 32, 256)       65536     \n",
      "_________________________________________________________________\n",
      "conv_pw_5_bn (BatchNormaliza (None, 32, 32, 256)       1024      \n",
      "_________________________________________________________________\n",
      "conv_pw_5_relu (ReLU)        (None, 32, 32, 256)       0         \n",
      "_________________________________________________________________\n",
      "conv_pad_6 (ZeroPadding2D)   (None, 33, 33, 256)       0         \n",
      "_________________________________________________________________\n",
      "conv_dw_6 (DepthwiseConv2D)  (None, 16, 16, 256)       2304      \n",
      "_________________________________________________________________\n",
      "conv_dw_6_bn (BatchNormaliza (None, 16, 16, 256)       1024      \n",
      "_________________________________________________________________\n",
      "conv_dw_6_relu (ReLU)        (None, 16, 16, 256)       0         \n",
      "_________________________________________________________________\n",
      "conv_pw_6 (Conv2D)           (None, 16, 16, 512)       131072    \n",
      "_________________________________________________________________\n",
      "conv_pw_6_bn (BatchNormaliza (None, 16, 16, 512)       2048      \n",
      "_________________________________________________________________\n",
      "conv_pw_6_relu (ReLU)        (None, 16, 16, 512)       0         \n",
      "_________________________________________________________________\n",
      "conv_dw_7 (DepthwiseConv2D)  (None, 16, 16, 512)       4608      \n",
      "_________________________________________________________________\n",
      "conv_dw_7_bn (BatchNormaliza (None, 16, 16, 512)       2048      \n",
      "_________________________________________________________________\n",
      "conv_dw_7_relu (ReLU)        (None, 16, 16, 512)       0         \n",
      "_________________________________________________________________\n",
      "conv_pw_7 (Conv2D)           (None, 16, 16, 512)       262144    \n",
      "_________________________________________________________________\n",
      "conv_pw_7_bn (BatchNormaliza (None, 16, 16, 512)       2048      \n",
      "_________________________________________________________________\n",
      "conv_pw_7_relu (ReLU)        (None, 16, 16, 512)       0         \n",
      "_________________________________________________________________\n",
      "conv_dw_8 (DepthwiseConv2D)  (None, 16, 16, 512)       4608      \n",
      "_________________________________________________________________\n",
      "conv_dw_8_bn (BatchNormaliza (None, 16, 16, 512)       2048      \n",
      "_________________________________________________________________\n",
      "conv_dw_8_relu (ReLU)        (None, 16, 16, 512)       0         \n",
      "_________________________________________________________________\n",
      "conv_pw_8 (Conv2D)           (None, 16, 16, 512)       262144    \n",
      "_________________________________________________________________\n",
      "conv_pw_8_bn (BatchNormaliza (None, 16, 16, 512)       2048      \n",
      "_________________________________________________________________\n",
      "conv_pw_8_relu (ReLU)        (None, 16, 16, 512)       0         \n",
      "_________________________________________________________________\n",
      "conv_dw_9 (DepthwiseConv2D)  (None, 16, 16, 512)       4608      \n",
      "_________________________________________________________________\n",
      "conv_dw_9_bn (BatchNormaliza (None, 16, 16, 512)       2048      \n",
      "_________________________________________________________________\n",
      "conv_dw_9_relu (ReLU)        (None, 16, 16, 512)       0         \n",
      "_________________________________________________________________\n",
      "conv_pw_9 (Conv2D)           (None, 16, 16, 512)       262144    \n",
      "_________________________________________________________________\n",
      "conv_pw_9_bn (BatchNormaliza (None, 16, 16, 512)       2048      \n",
      "_________________________________________________________________\n",
      "conv_pw_9_relu (ReLU)        (None, 16, 16, 512)       0         \n",
      "_________________________________________________________________\n",
      "conv_dw_10 (DepthwiseConv2D) (None, 16, 16, 512)       4608      \n",
      "_________________________________________________________________\n",
      "conv_dw_10_bn (BatchNormaliz (None, 16, 16, 512)       2048      \n",
      "_________________________________________________________________\n",
      "conv_dw_10_relu (ReLU)       (None, 16, 16, 512)       0         \n",
      "_________________________________________________________________\n",
      "conv_pw_10 (Conv2D)          (None, 16, 16, 512)       262144    \n",
      "_________________________________________________________________\n",
      "conv_pw_10_bn (BatchNormaliz (None, 16, 16, 512)       2048      \n",
      "_________________________________________________________________\n",
      "conv_pw_10_relu (ReLU)       (None, 16, 16, 512)       0         \n",
      "_________________________________________________________________\n",
      "conv_dw_11 (DepthwiseConv2D) (None, 16, 16, 512)       4608      \n",
      "_________________________________________________________________\n",
      "conv_dw_11_bn (BatchNormaliz (None, 16, 16, 512)       2048      \n",
      "_________________________________________________________________\n",
      "conv_dw_11_relu (ReLU)       (None, 16, 16, 512)       0         \n",
      "_________________________________________________________________\n",
      "conv_pw_11 (Conv2D)          (None, 16, 16, 512)       262144    \n",
      "_________________________________________________________________\n",
      "conv_pw_11_bn (BatchNormaliz (None, 16, 16, 512)       2048      \n",
      "_________________________________________________________________\n",
      "conv_pw_11_relu (ReLU)       (None, 16, 16, 512)       0         \n",
      "_________________________________________________________________\n",
      "conv_pad_12 (ZeroPadding2D)  (None, 17, 17, 512)       0         \n",
      "_________________________________________________________________\n",
      "conv_dw_12 (DepthwiseConv2D) (None, 8, 8, 512)         4608      \n",
      "_________________________________________________________________\n",
      "conv_dw_12_bn (BatchNormaliz (None, 8, 8, 512)         2048      \n",
      "_________________________________________________________________\n",
      "conv_dw_12_relu (ReLU)       (None, 8, 8, 512)         0         \n",
      "_________________________________________________________________\n",
      "conv_pw_12 (Conv2D)          (None, 8, 8, 1024)        524288    \n",
      "_________________________________________________________________\n",
      "conv_pw_12_bn (BatchNormaliz (None, 8, 8, 1024)        4096      \n",
      "_________________________________________________________________\n",
      "conv_pw_12_relu (ReLU)       (None, 8, 8, 1024)        0         \n",
      "_________________________________________________________________\n",
      "conv_dw_13 (DepthwiseConv2D) (None, 8, 8, 1024)        9216      \n",
      "_________________________________________________________________\n",
      "conv_dw_13_bn (BatchNormaliz (None, 8, 8, 1024)        4096      \n",
      "_________________________________________________________________\n",
      "conv_dw_13_relu (ReLU)       (None, 8, 8, 1024)        0         \n",
      "_________________________________________________________________\n",
      "conv_pw_13 (Conv2D)          (None, 8, 8, 1024)        1048576   \n",
      "_________________________________________________________________\n",
      "conv_pw_13_bn (BatchNormaliz (None, 8, 8, 1024)        4096      \n",
      "_________________________________________________________________\n",
      "conv_pw_13_relu (ReLU)       (None, 8, 8, 1024)        0         \n",
      "=================================================================\n",
      "Total params: 3,228,864\n",
      "Trainable params: 0\n",
      "Non-trainable params: 3,228,864\n",
      "_________________________________________________________________\n"
     ]
    }
   ],
   "source": [
    "# model summary\n",
    "Mmodel.summary()"
   ]
  },
  {
   "cell_type": "code",
   "execution_count": 20,
   "metadata": {},
   "outputs": [],
   "source": [
    "# creating Datagenerator with Dataaggumentation and standardisation\n",
    "datagen=ImageDataGenerator(samplewise_center=True,samplewise_std_normalization=True,horizontal_flip=True,\n",
    "                          width_shift_range=0.05,rescale=1/255,fill_mode='nearest',\n",
    "                           preprocessing_function=preprocess_input,validation_split=0.1)"
   ]
  },
  {
   "cell_type": "code",
   "execution_count": 21,
   "metadata": {},
   "outputs": [
    {
     "name": "stdout",
     "output_type": "stream",
     "text": [
      "Found 24016 images belonging to 3 classes.\n",
      "Found 2668 images belonging to 3 classes.\n"
     ]
    }
   ],
   "source": [
    "# creating training and validation set with 0.9:0.1 ratio\n",
    "train=datagen.flow_from_directory('data',color_mode='rgb',batch_size=64,class_mode='categorical',subset='training')\n",
    "test=datagen.flow_from_directory('data',color_mode='rgb',batch_size=32,class_mode='categorical',subset='validation')"
   ]
  },
  {
   "cell_type": "code",
   "execution_count": 22,
   "metadata": {},
   "outputs": [
    {
     "data": {
      "text/plain": [
       "{'lung opcaity': 0, 'no lungopacity and not normal': 1, 'normal': 2}"
      ]
     },
     "execution_count": 22,
     "metadata": {},
     "output_type": "execute_result"
    }
   ],
   "source": [
    "train.class_indices"
   ]
  },
  {
   "cell_type": "code",
   "execution_count": 23,
   "metadata": {},
   "outputs": [
    {
     "name": "stdout",
     "output_type": "stream",
     "text": [
      "last layer output shape:  (None, 8, 8, 1024)\n"
     ]
    }
   ],
   "source": [
    "\n",
    "# loading last layer of mobilenet model (without top)\n",
    "\n",
    "last_layer =Mmodel.get_layer('conv_pw_13_relu')\n",
    "print('last layer output shape: ', last_layer.output_shape)\n",
    "last_output = last_layer.output"
   ]
  },
  {
   "cell_type": "code",
   "execution_count": 24,
   "metadata": {},
   "outputs": [],
   "source": [
    "# adding further layers to mobilenet model to do classificaiton\n",
    "from tensorflow.keras.layers import Flatten,Dense,Dropout,BatchNormalization,LeakyReLU\n",
    "\n",
    "model = Flatten()(last_output)\n",
    "model = Dense(1024)(model)\n",
    "model=LeakyReLU(0.1)(model)\n",
    "model=Dropout(0.2)(model)\n",
    "model=BatchNormalization()(model)\n",
    "model = Dense(3, activation='softmax')(model)"
   ]
  },
  {
   "cell_type": "code",
   "execution_count": 25,
   "metadata": {},
   "outputs": [
    {
     "name": "stdout",
     "output_type": "stream",
     "text": [
      "Model: \"model\"\n",
      "_________________________________________________________________\n",
      "Layer (type)                 Output Shape              Param #   \n",
      "=================================================================\n",
      "input_1 (InputLayer)         [(None, 256, 256, 3)]     0         \n",
      "_________________________________________________________________\n",
      "conv1_pad (ZeroPadding2D)    (None, 257, 257, 3)       0         \n",
      "_________________________________________________________________\n",
      "conv1 (Conv2D)               (None, 128, 128, 32)      864       \n",
      "_________________________________________________________________\n",
      "conv1_bn (BatchNormalization (None, 128, 128, 32)      128       \n",
      "_________________________________________________________________\n",
      "conv1_relu (ReLU)            (None, 128, 128, 32)      0         \n",
      "_________________________________________________________________\n",
      "conv_dw_1 (DepthwiseConv2D)  (None, 128, 128, 32)      288       \n",
      "_________________________________________________________________\n",
      "conv_dw_1_bn (BatchNormaliza (None, 128, 128, 32)      128       \n",
      "_________________________________________________________________\n",
      "conv_dw_1_relu (ReLU)        (None, 128, 128, 32)      0         \n",
      "_________________________________________________________________\n",
      "conv_pw_1 (Conv2D)           (None, 128, 128, 64)      2048      \n",
      "_________________________________________________________________\n",
      "conv_pw_1_bn (BatchNormaliza (None, 128, 128, 64)      256       \n",
      "_________________________________________________________________\n",
      "conv_pw_1_relu (ReLU)        (None, 128, 128, 64)      0         \n",
      "_________________________________________________________________\n",
      "conv_pad_2 (ZeroPadding2D)   (None, 129, 129, 64)      0         \n",
      "_________________________________________________________________\n",
      "conv_dw_2 (DepthwiseConv2D)  (None, 64, 64, 64)        576       \n",
      "_________________________________________________________________\n",
      "conv_dw_2_bn (BatchNormaliza (None, 64, 64, 64)        256       \n",
      "_________________________________________________________________\n",
      "conv_dw_2_relu (ReLU)        (None, 64, 64, 64)        0         \n",
      "_________________________________________________________________\n",
      "conv_pw_2 (Conv2D)           (None, 64, 64, 128)       8192      \n",
      "_________________________________________________________________\n",
      "conv_pw_2_bn (BatchNormaliza (None, 64, 64, 128)       512       \n",
      "_________________________________________________________________\n",
      "conv_pw_2_relu (ReLU)        (None, 64, 64, 128)       0         \n",
      "_________________________________________________________________\n",
      "conv_dw_3 (DepthwiseConv2D)  (None, 64, 64, 128)       1152      \n",
      "_________________________________________________________________\n",
      "conv_dw_3_bn (BatchNormaliza (None, 64, 64, 128)       512       \n",
      "_________________________________________________________________\n",
      "conv_dw_3_relu (ReLU)        (None, 64, 64, 128)       0         \n",
      "_________________________________________________________________\n",
      "conv_pw_3 (Conv2D)           (None, 64, 64, 128)       16384     \n",
      "_________________________________________________________________\n",
      "conv_pw_3_bn (BatchNormaliza (None, 64, 64, 128)       512       \n",
      "_________________________________________________________________\n",
      "conv_pw_3_relu (ReLU)        (None, 64, 64, 128)       0         \n",
      "_________________________________________________________________\n",
      "conv_pad_4 (ZeroPadding2D)   (None, 65, 65, 128)       0         \n",
      "_________________________________________________________________\n",
      "conv_dw_4 (DepthwiseConv2D)  (None, 32, 32, 128)       1152      \n",
      "_________________________________________________________________\n",
      "conv_dw_4_bn (BatchNormaliza (None, 32, 32, 128)       512       \n",
      "_________________________________________________________________\n",
      "conv_dw_4_relu (ReLU)        (None, 32, 32, 128)       0         \n",
      "_________________________________________________________________\n",
      "conv_pw_4 (Conv2D)           (None, 32, 32, 256)       32768     \n",
      "_________________________________________________________________\n",
      "conv_pw_4_bn (BatchNormaliza (None, 32, 32, 256)       1024      \n",
      "_________________________________________________________________\n",
      "conv_pw_4_relu (ReLU)        (None, 32, 32, 256)       0         \n",
      "_________________________________________________________________\n",
      "conv_dw_5 (DepthwiseConv2D)  (None, 32, 32, 256)       2304      \n",
      "_________________________________________________________________\n",
      "conv_dw_5_bn (BatchNormaliza (None, 32, 32, 256)       1024      \n",
      "_________________________________________________________________\n",
      "conv_dw_5_relu (ReLU)        (None, 32, 32, 256)       0         \n",
      "_________________________________________________________________\n",
      "conv_pw_5 (Conv2D)           (None, 32, 32, 256)       65536     \n",
      "_________________________________________________________________\n",
      "conv_pw_5_bn (BatchNormaliza (None, 32, 32, 256)       1024      \n",
      "_________________________________________________________________\n",
      "conv_pw_5_relu (ReLU)        (None, 32, 32, 256)       0         \n",
      "_________________________________________________________________\n",
      "conv_pad_6 (ZeroPadding2D)   (None, 33, 33, 256)       0         \n",
      "_________________________________________________________________\n",
      "conv_dw_6 (DepthwiseConv2D)  (None, 16, 16, 256)       2304      \n",
      "_________________________________________________________________\n",
      "conv_dw_6_bn (BatchNormaliza (None, 16, 16, 256)       1024      \n",
      "_________________________________________________________________\n",
      "conv_dw_6_relu (ReLU)        (None, 16, 16, 256)       0         \n",
      "_________________________________________________________________\n",
      "conv_pw_6 (Conv2D)           (None, 16, 16, 512)       131072    \n",
      "_________________________________________________________________\n",
      "conv_pw_6_bn (BatchNormaliza (None, 16, 16, 512)       2048      \n",
      "_________________________________________________________________\n",
      "conv_pw_6_relu (ReLU)        (None, 16, 16, 512)       0         \n",
      "_________________________________________________________________\n",
      "conv_dw_7 (DepthwiseConv2D)  (None, 16, 16, 512)       4608      \n",
      "_________________________________________________________________\n",
      "conv_dw_7_bn (BatchNormaliza (None, 16, 16, 512)       2048      \n",
      "_________________________________________________________________\n",
      "conv_dw_7_relu (ReLU)        (None, 16, 16, 512)       0         \n",
      "_________________________________________________________________\n",
      "conv_pw_7 (Conv2D)           (None, 16, 16, 512)       262144    \n",
      "_________________________________________________________________\n",
      "conv_pw_7_bn (BatchNormaliza (None, 16, 16, 512)       2048      \n",
      "_________________________________________________________________\n",
      "conv_pw_7_relu (ReLU)        (None, 16, 16, 512)       0         \n",
      "_________________________________________________________________\n",
      "conv_dw_8 (DepthwiseConv2D)  (None, 16, 16, 512)       4608      \n",
      "_________________________________________________________________\n",
      "conv_dw_8_bn (BatchNormaliza (None, 16, 16, 512)       2048      \n",
      "_________________________________________________________________\n",
      "conv_dw_8_relu (ReLU)        (None, 16, 16, 512)       0         \n",
      "_________________________________________________________________\n",
      "conv_pw_8 (Conv2D)           (None, 16, 16, 512)       262144    \n",
      "_________________________________________________________________\n",
      "conv_pw_8_bn (BatchNormaliza (None, 16, 16, 512)       2048      \n",
      "_________________________________________________________________\n",
      "conv_pw_8_relu (ReLU)        (None, 16, 16, 512)       0         \n",
      "_________________________________________________________________\n",
      "conv_dw_9 (DepthwiseConv2D)  (None, 16, 16, 512)       4608      \n",
      "_________________________________________________________________\n",
      "conv_dw_9_bn (BatchNormaliza (None, 16, 16, 512)       2048      \n",
      "_________________________________________________________________\n",
      "conv_dw_9_relu (ReLU)        (None, 16, 16, 512)       0         \n",
      "_________________________________________________________________\n",
      "conv_pw_9 (Conv2D)           (None, 16, 16, 512)       262144    \n",
      "_________________________________________________________________\n",
      "conv_pw_9_bn (BatchNormaliza (None, 16, 16, 512)       2048      \n",
      "_________________________________________________________________\n",
      "conv_pw_9_relu (ReLU)        (None, 16, 16, 512)       0         \n",
      "_________________________________________________________________\n",
      "conv_dw_10 (DepthwiseConv2D) (None, 16, 16, 512)       4608      \n",
      "_________________________________________________________________\n",
      "conv_dw_10_bn (BatchNormaliz (None, 16, 16, 512)       2048      \n",
      "_________________________________________________________________\n",
      "conv_dw_10_relu (ReLU)       (None, 16, 16, 512)       0         \n",
      "_________________________________________________________________\n",
      "conv_pw_10 (Conv2D)          (None, 16, 16, 512)       262144    \n",
      "_________________________________________________________________\n",
      "conv_pw_10_bn (BatchNormaliz (None, 16, 16, 512)       2048      \n",
      "_________________________________________________________________\n",
      "conv_pw_10_relu (ReLU)       (None, 16, 16, 512)       0         \n",
      "_________________________________________________________________\n",
      "conv_dw_11 (DepthwiseConv2D) (None, 16, 16, 512)       4608      \n",
      "_________________________________________________________________\n",
      "conv_dw_11_bn (BatchNormaliz (None, 16, 16, 512)       2048      \n",
      "_________________________________________________________________\n",
      "conv_dw_11_relu (ReLU)       (None, 16, 16, 512)       0         \n",
      "_________________________________________________________________\n",
      "conv_pw_11 (Conv2D)          (None, 16, 16, 512)       262144    \n",
      "_________________________________________________________________\n",
      "conv_pw_11_bn (BatchNormaliz (None, 16, 16, 512)       2048      \n",
      "_________________________________________________________________\n",
      "conv_pw_11_relu (ReLU)       (None, 16, 16, 512)       0         \n",
      "_________________________________________________________________\n",
      "conv_pad_12 (ZeroPadding2D)  (None, 17, 17, 512)       0         \n",
      "_________________________________________________________________\n",
      "conv_dw_12 (DepthwiseConv2D) (None, 8, 8, 512)         4608      \n",
      "_________________________________________________________________\n",
      "conv_dw_12_bn (BatchNormaliz (None, 8, 8, 512)         2048      \n",
      "_________________________________________________________________\n",
      "conv_dw_12_relu (ReLU)       (None, 8, 8, 512)         0         \n",
      "_________________________________________________________________\n",
      "conv_pw_12 (Conv2D)          (None, 8, 8, 1024)        524288    \n",
      "_________________________________________________________________\n",
      "conv_pw_12_bn (BatchNormaliz (None, 8, 8, 1024)        4096      \n",
      "_________________________________________________________________\n",
      "conv_pw_12_relu (ReLU)       (None, 8, 8, 1024)        0         \n",
      "_________________________________________________________________\n",
      "conv_dw_13 (DepthwiseConv2D) (None, 8, 8, 1024)        9216      \n",
      "_________________________________________________________________\n",
      "conv_dw_13_bn (BatchNormaliz (None, 8, 8, 1024)        4096      \n",
      "_________________________________________________________________\n",
      "conv_dw_13_relu (ReLU)       (None, 8, 8, 1024)        0         \n",
      "_________________________________________________________________\n",
      "conv_pw_13 (Conv2D)          (None, 8, 8, 1024)        1048576   \n",
      "_________________________________________________________________\n",
      "conv_pw_13_bn (BatchNormaliz (None, 8, 8, 1024)        4096      \n",
      "_________________________________________________________________\n",
      "conv_pw_13_relu (ReLU)       (None, 8, 8, 1024)        0         \n",
      "_________________________________________________________________\n",
      "flatten (Flatten)            (None, 65536)             0         \n",
      "_________________________________________________________________\n",
      "dense (Dense)                (None, 1024)              67109888  \n",
      "_________________________________________________________________\n",
      "leaky_re_lu (LeakyReLU)      (None, 1024)              0         \n",
      "_________________________________________________________________\n",
      "dropout (Dropout)            (None, 1024)              0         \n",
      "_________________________________________________________________\n",
      "batch_normalization (BatchNo (None, 1024)              4096      \n",
      "_________________________________________________________________\n",
      "dense_1 (Dense)              (None, 3)                 3075      \n",
      "=================================================================\n",
      "Total params: 70,345,923\n",
      "Trainable params: 67,115,011\n",
      "Non-trainable params: 3,230,912\n",
      "_________________________________________________________________\n"
     ]
    }
   ],
   "source": [
    "# creating and compiling model\n",
    "from tensorflow.keras.models import Model\n",
    "\n",
    "\n",
    "f3model = Model( Mmodel.input, model) \n",
    "\n",
    "f3model.compile(optimizer = 'adam', \n",
    "              loss = 'categorical_crossentropy', \n",
    "              metrics = ['accuracy'])\n",
    "f3model.summary()"
   ]
  },
  {
   "cell_type": "code",
   "execution_count": 26,
   "metadata": {},
   "outputs": [],
   "source": [
    "# setting callback with earlystop and reducing learing rate\n",
    "from tensorflow.keras.callbacks import EarlyStopping,ReduceLROnPlateau\n",
    "\n",
    "\n",
    "early=EarlyStopping(monitor='accuracy',patience=3,mode='auto')\n",
    "reduce_lr = ReduceLROnPlateau(monitor='accuracy', factor=0.5, patience=2, verbose=1,cooldown=0, mode='auto',min_delta=0.0001, min_lr=0)"
   ]
  },
  {
   "cell_type": "code",
   "execution_count": 27,
   "metadata": {},
   "outputs": [],
   "source": [
    "# creating class weight as data is not balanced\n",
    "class_weight={0:2.5,1:1,2:1}\n",
    "              "
   ]
  },
  {
   "cell_type": "code",
   "execution_count": 28,
   "metadata": {},
   "outputs": [
    {
     "name": "stdout",
     "output_type": "stream",
     "text": [
      "Epoch 1/50\n",
      "100/100 [==============================] - 382s 4s/step - loss: 1.8483 - accuracy: 0.5483 - val_loss: 0.9350 - val_accuracy: 0.6376 - lr: 0.0010\n",
      "Epoch 2/50\n",
      "100/100 [==============================] - 395s 4s/step - loss: 1.0843 - accuracy: 0.6119 - val_loss: 0.7672 - val_accuracy: 0.6484 - lr: 0.0010\n",
      "Epoch 3/50\n",
      "100/100 [==============================] - 403s 4s/step - loss: 1.0269 - accuracy: 0.6320 - val_loss: 0.7717 - val_accuracy: 0.6548 - lr: 0.0010\n",
      "Epoch 4/50\n",
      "100/100 [==============================] - 381s 4s/step - loss: 0.9800 - accuracy: 0.6325 - val_loss: 0.7260 - val_accuracy: 0.6732 - lr: 0.0010\n",
      "Epoch 5/50\n",
      "100/100 [==============================] - 393s 4s/step - loss: 0.9413 - accuracy: 0.6598 - val_loss: 0.7552 - val_accuracy: 0.6642 - lr: 0.0010\n",
      "Epoch 6/50\n",
      "100/100 [==============================] - 395s 4s/step - loss: 0.8993 - accuracy: 0.6697 - val_loss: 0.7450 - val_accuracy: 0.6687 - lr: 0.0010\n",
      "Epoch 7/50\n",
      "100/100 [==============================] - 378s 4s/step - loss: 0.9118 - accuracy: 0.6620 - val_loss: 0.7775 - val_accuracy: 0.6338 - lr: 0.0010\n",
      "Epoch 8/50\n",
      "100/100 [==============================] - 390s 4s/step - loss: 0.8997 - accuracy: 0.6719 - val_loss: 0.7508 - val_accuracy: 0.6548 - lr: 0.0010\n",
      "Epoch 9/50\n",
      "100/100 [==============================] - 395s 4s/step - loss: 0.8980 - accuracy: 0.6683 - val_loss: 0.7907 - val_accuracy: 0.6428 - lr: 0.0010\n",
      "Epoch 10/50\n",
      "100/100 [==============================] - 382s 4s/step - loss: 0.8923 - accuracy: 0.6769 - val_loss: 0.8167 - val_accuracy: 0.6117 - lr: 0.0010\n",
      "Epoch 11/50\n",
      "100/100 [==============================] - 394s 4s/step - loss: 0.8527 - accuracy: 0.6920 - val_loss: 0.8031 - val_accuracy: 0.6368 - lr: 0.0010\n",
      "Epoch 12/50\n",
      "100/100 [==============================] - 379s 4s/step - loss: 0.8840 - accuracy: 0.6852 - val_loss: 0.7955 - val_accuracy: 0.6383 - lr: 0.0010\n",
      "Epoch 13/50\n",
      "100/100 [==============================] - ETA: 0s - loss: 0.8811 - accuracy: 0.6806\n",
      "Epoch 00013: ReduceLROnPlateau reducing learning rate to 0.0005000000237487257.\n",
      "100/100 [==============================] - 392s 4s/step - loss: 0.8811 - accuracy: 0.6806 - val_loss: 0.7536 - val_accuracy: 0.6623 - lr: 0.0010\n",
      "Epoch 14/50\n",
      "100/100 [==============================] - 394s 4s/step - loss: 0.8164 - accuracy: 0.6961 - val_loss: 0.7251 - val_accuracy: 0.6728 - lr: 5.0000e-04\n",
      "Epoch 15/50\n",
      "100/100 [==============================] - 380s 4s/step - loss: 0.7833 - accuracy: 0.7195 - val_loss: 0.7550 - val_accuracy: 0.6642 - lr: 5.0000e-04\n",
      "Epoch 16/50\n",
      "100/100 [==============================] - 394s 4s/step - loss: 0.7946 - accuracy: 0.7212 - val_loss: 0.7669 - val_accuracy: 0.6570 - lr: 5.0000e-04\n",
      "Epoch 17/50\n",
      "100/100 [==============================] - 393s 4s/step - loss: 0.7427 - accuracy: 0.7430 - val_loss: 0.7744 - val_accuracy: 0.6687 - lr: 5.0000e-04\n",
      "Epoch 18/50\n",
      "100/100 [==============================] - 377s 4s/step - loss: 0.7637 - accuracy: 0.7337 - val_loss: 0.7859 - val_accuracy: 0.6346 - lr: 5.0000e-04\n",
      "Epoch 19/50\n",
      "100/100 [==============================] - ETA: 0s - loss: 0.7591 - accuracy: 0.7337\n",
      "Epoch 00019: ReduceLROnPlateau reducing learning rate to 0.0002500000118743628.\n",
      "100/100 [==============================] - 397s 4s/step - loss: 0.7591 - accuracy: 0.7337 - val_loss: 0.7197 - val_accuracy: 0.6709 - lr: 5.0000e-04\n",
      "Epoch 20/50\n",
      "100/100 [==============================] - 379s 4s/step - loss: 0.7329 - accuracy: 0.7384 - val_loss: 0.7315 - val_accuracy: 0.6675 - lr: 2.5000e-04\n",
      "Epoch 21/50\n",
      "100/100 [==============================] - 390s 4s/step - loss: 0.6998 - accuracy: 0.7567 - val_loss: 0.7769 - val_accuracy: 0.6424 - lr: 2.5000e-04\n",
      "Epoch 22/50\n",
      "100/100 [==============================] - 391s 4s/step - loss: 0.7034 - accuracy: 0.7538 - val_loss: 0.7426 - val_accuracy: 0.6664 - lr: 2.5000e-04\n",
      "Epoch 23/50\n",
      "100/100 [==============================] - 380s 4s/step - loss: 0.6844 - accuracy: 0.7644 - val_loss: 0.7759 - val_accuracy: 0.6510 - lr: 2.5000e-04\n",
      "Epoch 24/50\n",
      "100/100 [==============================] - 390s 4s/step - loss: 0.6816 - accuracy: 0.7681 - val_loss: 0.7850 - val_accuracy: 0.6668 - lr: 2.5000e-04\n",
      "Epoch 25/50\n",
      "100/100 [==============================] - 389s 4s/step - loss: 0.6722 - accuracy: 0.7667 - val_loss: 0.7812 - val_accuracy: 0.6529 - lr: 2.5000e-04\n",
      "Epoch 26/50\n",
      "100/100 [==============================] - 371s 4s/step - loss: 0.6664 - accuracy: 0.7738 - val_loss: 0.8046 - val_accuracy: 0.6604 - lr: 2.5000e-04\n",
      "Epoch 27/50\n",
      "100/100 [==============================] - 390s 4s/step - loss: 0.6603 - accuracy: 0.7719 - val_loss: 0.8361 - val_accuracy: 0.6406 - lr: 2.5000e-04\n",
      "Epoch 28/50\n",
      "100/100 [==============================] - 374s 4s/step - loss: 0.6476 - accuracy: 0.7787 - val_loss: 0.8277 - val_accuracy: 0.6458 - lr: 2.5000e-04\n",
      "Epoch 29/50\n",
      "100/100 [==============================] - 392s 4s/step - loss: 0.6248 - accuracy: 0.7851 - val_loss: 0.8654 - val_accuracy: 0.6289 - lr: 2.5000e-04\n",
      "Epoch 30/50\n",
      "100/100 [==============================] - 391s 4s/step - loss: 0.6059 - accuracy: 0.7892 - val_loss: 0.8034 - val_accuracy: 0.6638 - lr: 2.5000e-04\n",
      "Epoch 31/50\n",
      "100/100 [==============================] - 375s 4s/step - loss: 0.5943 - accuracy: 0.7969 - val_loss: 0.8163 - val_accuracy: 0.6630 - lr: 2.5000e-04\n",
      "Epoch 32/50\n",
      "100/100 [==============================] - 404s 4s/step - loss: 0.6024 - accuracy: 0.7998 - val_loss: 0.8334 - val_accuracy: 0.6417 - lr: 2.5000e-04\n",
      "Epoch 33/50\n",
      "100/100 [==============================] - 399s 4s/step - loss: 0.6013 - accuracy: 0.8027 - val_loss: 0.8089 - val_accuracy: 0.6657 - lr: 2.5000e-04\n",
      "Epoch 34/50\n",
      "100/100 [==============================] - 383s 4s/step - loss: 0.5760 - accuracy: 0.8044 - val_loss: 0.8189 - val_accuracy: 0.6503 - lr: 2.5000e-04\n",
      "Epoch 35/50\n",
      "100/100 [==============================] - 393s 4s/step - loss: 0.5765 - accuracy: 0.7983 - val_loss: 0.8349 - val_accuracy: 0.6645 - lr: 2.5000e-04\n",
      "Epoch 36/50\n",
      "100/100 [==============================] - 385s 4s/step - loss: 0.5617 - accuracy: 0.8109 - val_loss: 0.8789 - val_accuracy: 0.6368 - lr: 2.5000e-04\n",
      "Epoch 37/50\n",
      "100/100 [==============================] - 385s 4s/step - loss: 0.5425 - accuracy: 0.8153 - val_loss: 0.8701 - val_accuracy: 0.6552 - lr: 2.5000e-04\n",
      "Epoch 38/50\n",
      "100/100 [==============================] - 393s 4s/step - loss: 0.5584 - accuracy: 0.8083 - val_loss: 0.8452 - val_accuracy: 0.6458 - lr: 2.5000e-04\n",
      "Epoch 39/50\n",
      "100/100 [==============================] - 381s 4s/step - loss: 0.5457 - accuracy: 0.8195 - val_loss: 0.8441 - val_accuracy: 0.6514 - lr: 2.5000e-04\n",
      "Epoch 40/50\n",
      "100/100 [==============================] - 394s 4s/step - loss: 0.5160 - accuracy: 0.8240 - val_loss: 0.8729 - val_accuracy: 0.6537 - lr: 2.5000e-04\n",
      "Epoch 41/50\n",
      "100/100 [==============================] - 399s 4s/step - loss: 0.5190 - accuracy: 0.8222 - val_loss: 0.8771 - val_accuracy: 0.6615 - lr: 2.5000e-04\n",
      "Epoch 42/50\n",
      "100/100 [==============================] - 383s 4s/step - loss: 0.5196 - accuracy: 0.8266 - val_loss: 0.9064 - val_accuracy: 0.6424 - lr: 2.5000e-04\n",
      "Epoch 43/50\n",
      "100/100 [==============================] - 395s 4s/step - loss: 0.5023 - accuracy: 0.8389 - val_loss: 0.9003 - val_accuracy: 0.6424 - lr: 2.5000e-04\n",
      "Epoch 44/50\n",
      "100/100 [==============================] - 395s 4s/step - loss: 0.4954 - accuracy: 0.8405 - val_loss: 0.8764 - val_accuracy: 0.6451 - lr: 2.5000e-04\n",
      "Epoch 45/50\n",
      "100/100 [==============================] - 385s 4s/step - loss: 0.5045 - accuracy: 0.8364 - val_loss: 0.9628 - val_accuracy: 0.6379 - lr: 2.5000e-04\n",
      "Epoch 46/50\n",
      "100/100 [==============================] - 398s 4s/step - loss: 0.4830 - accuracy: 0.8409 - val_loss: 0.9048 - val_accuracy: 0.6406 - lr: 2.5000e-04\n",
      "Epoch 47/50\n",
      "100/100 [==============================] - 381s 4s/step - loss: 0.4827 - accuracy: 0.8441 - val_loss: 0.9326 - val_accuracy: 0.6630 - lr: 2.5000e-04\n",
      "Epoch 48/50\n",
      "100/100 [==============================] - 393s 4s/step - loss: 0.4753 - accuracy: 0.8415 - val_loss: 0.9094 - val_accuracy: 0.6443 - lr: 2.5000e-04\n",
      "Epoch 49/50\n",
      "100/100 [==============================] - 392s 4s/step - loss: 0.4659 - accuracy: 0.8481 - val_loss: 0.9273 - val_accuracy: 0.6552 - lr: 2.5000e-04\n",
      "Epoch 50/50\n",
      "100/100 [==============================] - 384s 4s/step - loss: 0.4707 - accuracy: 0.8486 - val_loss: 0.8964 - val_accuracy: 0.6458 - lr: 2.5000e-04\n"
     ]
    }
   ],
   "source": [
    "# training\n",
    "history=f3model.fit(train,epochs=50,callbacks=[reduce_lr],steps_per_epoch=100,validation_data=test,class_weight=class_weight)"
   ]
  },
  {
   "cell_type": "code",
   "execution_count": 29,
   "metadata": {},
   "outputs": [],
   "source": [
    "# saving weights for future use\n",
    "fmodel.save_weights('3classmobilenet150.h5')\n"
   ]
  },
  {
   "cell_type": "code",
   "execution_count": 31,
   "metadata": {},
   "outputs": [],
   "source": [
    "kk=pd.DataFrame({'loss':history.history[\"loss\"],'val_loss':history.history[\"val_loss\"],\n",
    "                 'accuracy':history.history[\"accuracy\"],'val_acc':history.history[\"val_accuracy\"]})"
   ]
  },
  {
   "cell_type": "code",
   "execution_count": 32,
   "metadata": {},
   "outputs": [],
   "source": [
    "# saving the history\n",
    "kk.to_csv('3Mmodel150.csv')"
   ]
  },
  {
   "cell_type": "code",
   "execution_count": 33,
   "metadata": {},
   "outputs": [],
   "source": [
    "# the report shows that this model is better than model 1, let check the sensitivity and specificity"
   ]
  },
  {
   "cell_type": "code",
   "execution_count": 34,
   "metadata": {},
   "outputs": [
    {
     "name": "stderr",
     "output_type": "stream",
     "text": [
      "100%|██████████| 84/84 [00:48<00:00,  1.72it/s]\n"
     ]
    }
   ],
   "source": [
    "y=[]\n",
    "\n",
    "test.reset()\n",
    "\n",
    "for i in tqdm(range(84)):\n",
    "    _,tar=test.__getitem__(i)\n",
    "    for j in tar:\n",
    "        y.append(j)"
   ]
  },
  {
   "cell_type": "code",
   "execution_count": 35,
   "metadata": {},
   "outputs": [],
   "source": [
    "y_pred=fmodel.predict(test)"
   ]
  },
  {
   "cell_type": "code",
   "execution_count": 36,
   "metadata": {},
   "outputs": [
    {
     "data": {
      "text/plain": [
       "(2668, 3)"
      ]
     },
     "execution_count": 36,
     "metadata": {},
     "output_type": "execute_result"
    }
   ],
   "source": [
    "y_pred.shape"
   ]
  },
  {
   "cell_type": "code",
   "execution_count": 37,
   "metadata": {},
   "outputs": [
    {
     "data": {
      "text/plain": [
       "1"
      ]
     },
     "execution_count": 37,
     "metadata": {},
     "output_type": "execute_result"
    }
   ],
   "source": [
    "np.argmax(y_pred[1])"
   ]
  },
  {
   "cell_type": "code",
   "execution_count": 38,
   "metadata": {},
   "outputs": [
    {
     "data": {
      "text/plain": [
       "(2668, 3)"
      ]
     },
     "execution_count": 38,
     "metadata": {},
     "output_type": "execute_result"
    }
   ],
   "source": [
    "np.array(y).shape"
   ]
  },
  {
   "cell_type": "code",
   "execution_count": 39,
   "metadata": {},
   "outputs": [],
   "source": [
    "# target labels\n",
    "YY=[]\n",
    "for i in y:\n",
    "    YY.append(np.argmax(i))"
   ]
  },
  {
   "cell_type": "code",
   "execution_count": 40,
   "metadata": {},
   "outputs": [],
   "source": [
    "# predictions\n",
    "pred_y=[]\n",
    "for i in y_pred:\n",
    "    pred_y.append(np.argmax(i))"
   ]
  },
  {
   "cell_type": "code",
   "execution_count": 41,
   "metadata": {},
   "outputs": [
    {
     "name": "stdout",
     "output_type": "stream",
     "text": [
      "              precision    recall  f1-score   support\n",
      "\n",
      "           0       0.55      0.57      0.56       601\n",
      "           1       0.65      0.55      0.60      1182\n",
      "           2       0.69      0.82      0.75       885\n",
      "\n",
      "    accuracy                           0.64      2668\n",
      "   macro avg       0.63      0.65      0.64      2668\n",
      "weighted avg       0.64      0.64      0.64      2668\n",
      "\n"
     ]
    }
   ],
   "source": [
    "# classification report\n",
    "from sklearn.metrics import roc_curve,auc,precision_recall_curve,classification_report\n",
    "print(classification_report(YY,pred_y))"
   ]
  },
  {
   "cell_type": "code",
   "execution_count": null,
   "metadata": {},
   "outputs": [],
   "source": [
    "The accuracy of this model is 64 percent"
   ]
  },
  {
   "cell_type": "markdown",
   "metadata": {},
   "source": [
    "# Ensamble model with dicom data like age, sex, View position"
   ]
  },
  {
   "cell_type": "code",
   "execution_count": 121,
   "metadata": {},
   "outputs": [],
   "source": [
    "# custom generator class for classification\n",
    "class generator1(keras.utils.Sequence):\n",
    "    \n",
    "    def __init__(self, folder, filenames, pneumonia_locations=None, batch_size=32,channel=1, image_size=128, shuffle=True, augment=False, predict=False):\n",
    "        self.folder = folder\n",
    "        self.filenames = filenames\n",
    "        self.pneumonia_locations = pneumonia_locations\n",
    "        self.batch_size = batch_size\n",
    "        self.image_size = image_size\n",
    "        self.shuffle = shuffle\n",
    "        self.augment = augment\n",
    "        self.predict = predict\n",
    "        self.channel=channel\n",
    "        self.on_epoch_end()\n",
    "        \n",
    "    def __load__(self, filename):\n",
    "        img = pydicom.dcmread(os.path.join(self.folder, filename)).pixel_array\n",
    "        msk = np.zeros(1)\n",
    "        images=np.zeros((self.image_size,self.image_size,self.channel))\n",
    "        filename = filename.split('.')[0]\n",
    "        if filename in pneumonia_locations:\n",
    "            msk[0]=1\n",
    "        img = resize(img, (self.image_size, self.image_size), mode='reflect')\n",
    "        for i in range(self.channel):\n",
    "            images[:,:,i]=img\n",
    "        #img = np.expand_dims(img, -1)\n",
    "        msk = np.expand_dims(msk, -1)\n",
    "        return images, msk\n",
    "    \n",
    "    def __loadpredict__(self, filename):\n",
    "        img = pydicom.dcmread(os.path.join(self.folder, filename)).pixel_array\n",
    "        img = resize(img, (self.image_size, self.image_size), mode='reflect')\n",
    "        images=np.zeros((self.image_size,self.image_size,self.channel))\n",
    "        for i in range(self.channel):\n",
    "            images[:,:,i]=img\n",
    "        #img = np.expand_dims(img, -1)\n",
    "        return images\n",
    "        \n",
    "    def __getitem__(self, index):\n",
    "        filenames = self.filenames[index*self.batch_size:(index+1)*self.batch_size]\n",
    "        if self.predict:\n",
    "            images = [self.__loadpredict__(filename) for filename in filenames]\n",
    "            images = np.array(images)\n",
    "            return images, filenames\n",
    "        else:\n",
    "            items = [self.__load__(filename) for filename in filenames]\n",
    "            imgs, msks = zip(*items)\n",
    "            imgs = np.array(imgs)\n",
    "            msks = np.array(msks)\n",
    "            return imgs, msks\n",
    "        \n",
    "    def on_epoch_end(self):\n",
    "        if self.shuffle:\n",
    "            random.shuffle(self.filenames)\n",
    "        \n",
    "    def __len__(self):\n",
    "        if self.predict:\n",
    "            return int(np.ceil(len(self.filenames) / self.batch_size))\n",
    "        else:\n",
    "            return int(len(self.filenames) / self.batch_size)   \n"
   ]
  },
  {
   "cell_type": "code",
   "execution_count": 122,
   "metadata": {},
   "outputs": [],
   "source": [
    "# creating separate generators for custom and vgg, mobilnet as they use different input shapes\n",
    "\n",
    "train_gens = generator1(folder, train_filenames, pneumonia_locations, batch_size=1,channel=1, image_size=128, shuffle=False, augment=False, predict=False)\n",
    "valid_gens= generator1(folder, valid_filenames, pneumonia_locations, batch_size=1,channel=1, image_size=128, shuffle=False, predict=False)\n",
    "\n",
    "train_genmv = generator1(folder, train_filenames, pneumonia_locations, batch_size=1,channel=3, image_size=256, shuffle=False, augment=False, predict=False)\n",
    "valid_genmv= generator1(folder, valid_filenames, pneumonia_locations, batch_size=1,channel=3, image_size=256, shuffle=False, predict=False)\n",
    "\n"
   ]
  },
  {
   "cell_type": "code",
   "execution_count": 28,
   "metadata": {},
   "outputs": [],
   "source": [
    "# creating model\n",
    "Smodel= create_network1(input_size=128, channels=32, n_blocks=2, depth=4)"
   ]
  },
  {
   "cell_type": "code",
   "execution_count": 29,
   "metadata": {},
   "outputs": [],
   "source": [
    "# loading trained weights\n",
    "Smodel.load_weights('model50epochs.h5')"
   ]
  },
  {
   "cell_type": "code",
   "execution_count": 30,
   "metadata": {},
   "outputs": [
    {
     "name": "stdout",
     "output_type": "stream",
     "text": [
      "last layer output shape:  (None, 8, 8, 1024)\n"
     ]
    }
   ],
   "source": [
    "# creating mobile net and loading trained weights\n",
    "from tensorflow.keras.applications.mobilenet import MobileNet, preprocess_input\n",
    "\n",
    "from tensorflow.keras.models import Model\n",
    "def create_model(trainable=True):\n",
    "    model = MobileNet(input_shape=(256, 256, 3), include_top=False, alpha=1, weights=\"imagenet\")\n",
    "    OO=0\n",
    "    for layer in model.layers:\n",
    "        layer.trainable = False\n",
    "    return model       \n",
    "Mmodel=create_model()\n",
    "last_layer =Mmodel.get_layer('conv_pw_13_relu')\n",
    "print('last layer output shape: ', last_layer.output_shape)\n",
    "last_output = last_layer.output\n",
    "from tensorflow.keras.layers import Flatten,Dense,Dropout,BatchNormalization,LeakyReLU\n",
    "\n",
    "model = Flatten()(last_output)\n",
    "model = Dense(1024)(model)\n",
    "model=LeakyReLU(0.1)(model)\n",
    "model=Dropout(0.2)(model)\n",
    "model=BatchNormalization()(model)\n",
    "model = Dense(1, activation='sigmoid')(model)\n",
    "\n",
    "\n",
    "\n",
    "mfmodel = Model( Mmodel.input, model) \n",
    "\n",
    "mfmodel.compile(optimizer = 'adam', \n",
    "              loss = 'binary_crossentropy', \n",
    "              metrics = ['accuracy'])\n"
   ]
  },
  {
   "cell_type": "code",
   "execution_count": 31,
   "metadata": {},
   "outputs": [],
   "source": [
    "# Loading pretrained model\n",
    "mfmodel.load_weights('mobilenet20.h5')"
   ]
  },
  {
   "cell_type": "code",
   "execution_count": 17,
   "metadata": {},
   "outputs": [
    {
     "name": "stdout",
     "output_type": "stream",
     "text": [
      "Downloading data from https://storage.googleapis.com/tensorflow/keras-applications/vgg19/vgg19_weights_tf_dim_ordering_tf_kernels_notop.h5\n",
      "80142336/80134624 [==============================] - 2s 0us/step\n",
      "last layer output shape:  (None, 8, 8, 512)\n",
      "Model: \"model_3\"\n",
      "_________________________________________________________________\n",
      "Layer (type)                 Output Shape              Param #   \n",
      "=================================================================\n",
      "input_4 (InputLayer)         [(None, 256, 256, 3)]     0         \n",
      "_________________________________________________________________\n",
      "block1_conv1 (Conv2D)        (None, 256, 256, 64)      1792      \n",
      "_________________________________________________________________\n",
      "block1_conv2 (Conv2D)        (None, 256, 256, 64)      36928     \n",
      "_________________________________________________________________\n",
      "block1_pool (MaxPooling2D)   (None, 128, 128, 64)      0         \n",
      "_________________________________________________________________\n",
      "block2_conv1 (Conv2D)        (None, 128, 128, 128)     73856     \n",
      "_________________________________________________________________\n",
      "block2_conv2 (Conv2D)        (None, 128, 128, 128)     147584    \n",
      "_________________________________________________________________\n",
      "block2_pool (MaxPooling2D)   (None, 64, 64, 128)       0         \n",
      "_________________________________________________________________\n",
      "block3_conv1 (Conv2D)        (None, 64, 64, 256)       295168    \n",
      "_________________________________________________________________\n",
      "block3_conv2 (Conv2D)        (None, 64, 64, 256)       590080    \n",
      "_________________________________________________________________\n",
      "block3_conv3 (Conv2D)        (None, 64, 64, 256)       590080    \n",
      "_________________________________________________________________\n",
      "block3_conv4 (Conv2D)        (None, 64, 64, 256)       590080    \n",
      "_________________________________________________________________\n",
      "block3_pool (MaxPooling2D)   (None, 32, 32, 256)       0         \n",
      "_________________________________________________________________\n",
      "block4_conv1 (Conv2D)        (None, 32, 32, 512)       1180160   \n",
      "_________________________________________________________________\n",
      "block4_conv2 (Conv2D)        (None, 32, 32, 512)       2359808   \n",
      "_________________________________________________________________\n",
      "block4_conv3 (Conv2D)        (None, 32, 32, 512)       2359808   \n",
      "_________________________________________________________________\n",
      "block4_conv4 (Conv2D)        (None, 32, 32, 512)       2359808   \n",
      "_________________________________________________________________\n",
      "block4_pool (MaxPooling2D)   (None, 16, 16, 512)       0         \n",
      "_________________________________________________________________\n",
      "block5_conv1 (Conv2D)        (None, 16, 16, 512)       2359808   \n",
      "_________________________________________________________________\n",
      "block5_conv2 (Conv2D)        (None, 16, 16, 512)       2359808   \n",
      "_________________________________________________________________\n",
      "block5_conv3 (Conv2D)        (None, 16, 16, 512)       2359808   \n",
      "_________________________________________________________________\n",
      "block5_conv4 (Conv2D)        (None, 16, 16, 512)       2359808   \n",
      "_________________________________________________________________\n",
      "block5_pool (MaxPooling2D)   (None, 8, 8, 512)         0         \n",
      "_________________________________________________________________\n",
      "flatten_3 (Flatten)          (None, 32768)             0         \n",
      "_________________________________________________________________\n",
      "dense_4 (Dense)              (None, 1024)              33555456  \n",
      "_________________________________________________________________\n",
      "leaky_re_lu_7 (LeakyReLU)    (None, 1024)              0         \n",
      "_________________________________________________________________\n",
      "dropout_1 (Dropout)          (None, 1024)              0         \n",
      "_________________________________________________________________\n",
      "batch_normalization_7 (Batch (None, 1024)              4096      \n",
      "_________________________________________________________________\n",
      "dense_5 (Dense)              (None, 1)                 1025      \n",
      "=================================================================\n",
      "Total params: 53,584,961\n",
      "Trainable params: 33,558,529\n",
      "Non-trainable params: 20,026,432\n",
      "_________________________________________________________________\n"
     ]
    }
   ],
   "source": [
    "# creating model and Loading pretrained model\n",
    "from tensorflow.keras.applications.vgg19 import VGG19,preprocess_input\n",
    "\n",
    "pre_trained_model = VGG19(input_shape = (256,256,3), \n",
    "                                include_top = False, \n",
    "                                weights = 'imagenet')\n",
    "\n",
    "for layer in pre_trained_model.layers:\n",
    "  layer.trainable = False\n",
    "\n",
    "# pre_trained_model.summary()\n",
    "\n",
    "last_layer = pre_trained_model.get_layer('block5_pool')\n",
    "print('last layer output shape: ', last_layer.output_shape)\n",
    "last_output = last_layer.output\n",
    "# creating further layers to add to vgg19 for classification \n",
    "from tensorflow.keras.layers import Flatten,Dense,Dropout,BatchNormalization,LeakyReLU\n",
    "from tensorflow.keras.models import Model\n",
    "\n",
    "model = Flatten()(last_output)\n",
    "model = Dense(1024)(model)\n",
    "model=LeakyReLU(0.1)(model)\n",
    "model=Dropout(0.2)(model)\n",
    "model=BatchNormalization()(model)\n",
    "model = Dense(1, activation='sigmoid')(model)\n",
    "\n",
    "Vmodel = Model( pre_trained_model.input, model) \n",
    "\n",
    "Vmodel.compile(optimizer = 'adam', \n",
    "              loss = 'binary_crossentropy', \n",
    "              metrics = ['accuracy'])\n",
    "Vmodel.summary()\n",
    "Vmodel.load_weights('vggweights14.h5')"
   ]
  },
  {
   "cell_type": "code",
   "execution_count": 42,
   "metadata": {},
   "outputs": [],
   "source": [
    "# predicting the class\n",
    "Sp=Smodel.predict(valid_gens)\n",
    "Mp=fmodel.predict(valid_genmv)\n",
    "Vp=Vmodel.predict(valid_genmv)"
   ]
  },
  {
   "cell_type": "code",
   "execution_count": null,
   "metadata": {},
   "outputs": [],
   "source": [
    "valid_genmv1= generator1(folder, valid_filenames, pneumonia_locations, batch_size=1,channel=3, image_size=256, shuffle=False, predict=True)"
   ]
  },
  {
   "cell_type": "code",
   "execution_count": 35,
   "metadata": {},
   "outputs": [
    {
     "name": "stderr",
     "output_type": "stream",
     "text": [
      "100%|██████████| 2668/2668 [02:45<00:00, 16.11it/s]\n"
     ]
    }
   ],
   "source": [
    "# loading target\n",
    "from tqdm import tqdm\n",
    "\n",
    "vy=[]\n",
    "\n",
    "\n",
    "for i in tqdm(range(2668)):\n",
    "    _,tar=valid_gens.__getitem__(i)\n",
    "    for j in tar:\n",
    "        vy.append(j)"
   ]
  },
  {
   "cell_type": "code",
   "execution_count": 36,
   "metadata": {},
   "outputs": [
    {
     "name": "stderr",
     "output_type": "stream",
     "text": [
      "100%|██████████| 2668/2668 [02:44<00:00, 16.19it/s]\n"
     ]
    }
   ],
   "source": [
    "#loading target\n",
    "sy=[]\n",
    "\n",
    "\n",
    "for i in tqdm(range(2668)):\n",
    "    _,tar=valid_genmv.__getitem__(i)\n",
    "    for j in tar:\n",
    "        sy.append(j)\n",
    "        "
   ]
  },
  {
   "cell_type": "code",
   "execution_count": 39,
   "metadata": {},
   "outputs": [
    {
     "data": {
      "text/plain": [
       "0.0"
      ]
     },
     "execution_count": 39,
     "metadata": {},
     "output_type": "execute_result"
    }
   ],
   "source": [
    "(np.array(vy)-np.array(sy)).sum()"
   ]
  },
  {
   "cell_type": "code",
   "execution_count": 83,
   "metadata": {},
   "outputs": [],
   "source": [
    "# creating a custom report function\n",
    "from sklearn.metrics import roc_curve,auc,precision_recall_curve,classification_report\n",
    "from sklearn import metrics\n",
    "\n",
    "def report(y,y_pred,th):\n",
    "    vpred_y=[]\n",
    "    for i in y_pred:\n",
    "        if i>=th:\n",
    "            vpred_y.append(1)\n",
    "        else:\n",
    "            vpred_y.append(0)\n",
    "    print(classification_report(y,vpred_y))      \n",
    "    print(metrics.roc_auc_score(y,y_pred))"
   ]
  },
  {
   "cell_type": "code",
   "execution_count": 124,
   "metadata": {},
   "outputs": [
    {
     "name": "stdout",
     "output_type": "stream",
     "text": [
      "              precision    recall  f1-score   support\n",
      "\n",
      "           0       0.91      0.84      0.87      2035\n",
      "           1       0.59      0.72      0.65       633\n",
      "\n",
      "    accuracy                           0.82      2668\n",
      "   macro avg       0.75      0.78      0.76      2668\n",
      "weighted avg       0.83      0.82      0.82      2668\n",
      "\n",
      "0.8637236978469206\n",
      "              precision    recall  f1-score   support\n",
      "\n",
      "           0       0.92      0.85      0.89      2035\n",
      "           1       0.62      0.77      0.69       633\n",
      "\n",
      "    accuracy                           0.83      2668\n",
      "   macro avg       0.77      0.81      0.79      2668\n",
      "weighted avg       0.85      0.83      0.84      2668\n",
      "\n",
      "0.8930679925940589\n",
      "              precision    recall  f1-score   support\n",
      "\n",
      "           0       0.00      0.00      0.00      2035\n",
      "           1       0.24      1.00      0.38       633\n",
      "\n",
      "    accuracy                           0.24      2668\n",
      "   macro avg       0.12      0.50      0.19      2668\n",
      "weighted avg       0.06      0.24      0.09      2668\n",
      "\n",
      "0.5572361245347027\n"
     ]
    }
   ],
   "source": [
    "# generating report \n",
    "report(YY1,Sp,0.2)\n",
    "report(YY1,Mp,0.32)\n",
    "report(YY1,Vp,0.1)"
   ]
  },
  {
   "cell_type": "markdown",
   "metadata": {},
   "source": [
    "Mobilenet with this generator function gives better AUC than any other model till now and since the prediction of VGG is low in auc and accuracy with this custom function we will use only the outputs of mobile net and custom architecture for ensambling"
   ]
  },
  {
   "cell_type": "code",
   "execution_count": 161,
   "metadata": {},
   "outputs": [],
   "source": [
    "#Creating custom data from predictions for ensambling\n",
    "TSp=Smodel.predict(train_gens)\n",
    "TMp=fmodel.predict(train_genmv)\n"
   ]
  },
  {
   "cell_type": "code",
   "execution_count": 106,
   "metadata": {},
   "outputs": [
    {
     "data": {
      "text/plain": [
       "(26684, 14)"
      ]
     },
     "execution_count": 106,
     "metadata": {},
     "output_type": "execute_result"
    }
   ],
   "source": [
    "dc=pd.read_csv('/kaggle/input/dicomdata/saved.csv')\n",
    "dc=dc.drop_duplicates('patientId')\n",
    "dc.shape"
   ]
  },
  {
   "cell_type": "code",
   "execution_count": 107,
   "metadata": {},
   "outputs": [
    {
     "data": {
      "text/plain": [
       "Index(['Unnamed: 0', 'Modality', 'PatientAge', 'ViewPosition', 'PatientSex',\n",
       "       'PatientOrientation', 'BodyPartExamined', 'patientId', 'x', 'y',\n",
       "       'width', 'height', 'Target', 'class'],\n",
       "      dtype='object')"
      ]
     },
     "execution_count": 107,
     "metadata": {},
     "output_type": "execute_result"
    }
   ],
   "source": [
    "dc.columns"
   ]
  },
  {
   "cell_type": "code",
   "execution_count": 125,
   "metadata": {},
   "outputs": [],
   "source": [
    "dd=dc[['PatientAge','PatientSex','patientId','Target','ViewPosition']]"
   ]
  },
  {
   "cell_type": "code",
   "execution_count": 127,
   "metadata": {},
   "outputs": [],
   "source": [
    "# appending Patient ID and predicitons\n",
    "vaF=[]\n",
    "trF=[]\n",
    "for i in valid_filenames:\n",
    "    k=i.split('.')[0]\n",
    "    vaF.append(k)\n",
    "for i in train_filenames:\n",
    "    k=i.split('.')[0]\n",
    "    trF.append(k)\n",
    "    \n",
    "dd['valid']=dd['patientId'].isin(vaF)\n",
    "dd['train']=dd['patientId'].isin(trF)\n",
    "ddt=dd[dd['train']]\n",
    "ddv=dd[dd['valid']]\n",
    "\n",
    "tt=pd.DataFrame({})\n",
    "tt['patientId']=trF\n",
    "tt['rank']=np.arange(0,24016)\n",
    "tt['mobile']=TMp\n",
    "tt['self']=TSp\n",
    "tv=pd.DataFrame({})\n",
    "tv['patientId']=vaF\n",
    "tv['rank']=np.arange(0,2668)\n",
    "tv['mobile']=Mp\n",
    "tv['self']=Sp"
   ]
  },
  {
   "cell_type": "code",
   "execution_count": 156,
   "metadata": {},
   "outputs": [
    {
     "data": {
      "text/html": [
       "<div>\n",
       "<style scoped>\n",
       "    .dataframe tbody tr th:only-of-type {\n",
       "        vertical-align: middle;\n",
       "    }\n",
       "\n",
       "    .dataframe tbody tr th {\n",
       "        vertical-align: top;\n",
       "    }\n",
       "\n",
       "    .dataframe thead th {\n",
       "        text-align: right;\n",
       "    }\n",
       "</style>\n",
       "<table border=\"1\" class=\"dataframe\">\n",
       "  <thead>\n",
       "    <tr style=\"text-align: right;\">\n",
       "      <th></th>\n",
       "      <th>patientId</th>\n",
       "      <th>rank</th>\n",
       "      <th>mobile</th>\n",
       "      <th>self</th>\n",
       "    </tr>\n",
       "  </thead>\n",
       "  <tbody>\n",
       "    <tr>\n",
       "      <th>0</th>\n",
       "      <td>10f82565-f6b0-4dd0-a570-1f324161c8e9</td>\n",
       "      <td>0</td>\n",
       "      <td>0.251111</td>\n",
       "      <td>0.267861</td>\n",
       "    </tr>\n",
       "    <tr>\n",
       "      <th>1</th>\n",
       "      <td>8fd19393-b0d1-45eb-aba4-11519def129a</td>\n",
       "      <td>1</td>\n",
       "      <td>0.035524</td>\n",
       "      <td>0.031615</td>\n",
       "    </tr>\n",
       "    <tr>\n",
       "      <th>2</th>\n",
       "      <td>336b379f-b679-42cb-9e9b-e2483a4cae2c</td>\n",
       "      <td>2</td>\n",
       "      <td>0.008033</td>\n",
       "      <td>0.006167</td>\n",
       "    </tr>\n",
       "    <tr>\n",
       "      <th>3</th>\n",
       "      <td>6c93d95a-2f16-46ea-88d8-84906aa27d64</td>\n",
       "      <td>3</td>\n",
       "      <td>0.049973</td>\n",
       "      <td>0.121540</td>\n",
       "    </tr>\n",
       "    <tr>\n",
       "      <th>4</th>\n",
       "      <td>9f586862-a0d0-4980-ac2e-7a82c9d4c30b</td>\n",
       "      <td>4</td>\n",
       "      <td>0.765934</td>\n",
       "      <td>0.653634</td>\n",
       "    </tr>\n",
       "  </tbody>\n",
       "</table>\n",
       "</div>"
      ],
      "text/plain": [
       "                              patientId  rank    mobile      self\n",
       "0  10f82565-f6b0-4dd0-a570-1f324161c8e9     0  0.251111  0.267861\n",
       "1  8fd19393-b0d1-45eb-aba4-11519def129a     1  0.035524  0.031615\n",
       "2  336b379f-b679-42cb-9e9b-e2483a4cae2c     2  0.008033  0.006167\n",
       "3  6c93d95a-2f16-46ea-88d8-84906aa27d64     3  0.049973  0.121540\n",
       "4  9f586862-a0d0-4980-ac2e-7a82c9d4c30b     4  0.765934  0.653634"
      ]
     },
     "execution_count": 156,
     "metadata": {},
     "output_type": "execute_result"
    }
   ],
   "source": [
    "tv.head()"
   ]
  },
  {
   "cell_type": "code",
   "execution_count": 176,
   "metadata": {},
   "outputs": [],
   "source": [
    "# training set\n",
    "Traind=pd.merge(tt,ddt)\n",
    "Traind.head()\n",
    "TrainData=Traind[['mobile','self','PatientAge','PatientSex','ViewPosition']]\n",
    "TrainData1=pd.get_dummies(TrainData,columns=['PatientSex','ViewPosition'])\n",
    "\n",
    "TrainData1.to_csv('T.csv')"
   ]
  },
  {
   "cell_type": "code",
   "execution_count": 177,
   "metadata": {},
   "outputs": [],
   "source": [
    "# validayion set\n",
    "Validd=pd.merge(tv,ddv)\n",
    "ValidData=Validd[['mobile','self','PatientAge','PatientSex','ViewPosition']]\n",
    "ValidData1=pd.get_dummies(ValidData,columns=['PatientSex','ViewPosition'])\n",
    "\n",
    "ValidData1.to_csv('v.csv')"
   ]
  },
  {
   "cell_type": "code",
   "execution_count": 172,
   "metadata": {},
   "outputs": [],
   "source": [
    "from sklearn.model_selection import train_test_split\n",
    "from sklearn.linear_model import LogisticRegression\n",
    "from sklearn.neighbors import KNeighborsClassifier\n",
    "from sklearn import svm\n",
    "from sklearn.naive_bayes import GaussianNB\n",
    "from sklearn.tree import DecisionTreeClassifier\n",
    "from sklearn.metrics import confusion_matrix\n",
    "from sklearn.ensemble import RandomForestClassifier\n",
    "from sklearn.ensemble import GradientBoostingClassifier\n",
    "from sklearn.ensemble import AdaBoostClassifier\n",
    "from sklearn.ensemble import BaggingClassifier\n",
    "from sklearn.svm import SVC\n",
    "import lightgbm as lgb\n",
    "import xgboost as xgb\n",
    "import catboost as cat\n",
    "from catboost import CatBoostClassifier\n",
    "from sklearn import metrics\n",
    "import seaborn as sns\n",
    "%matplotlib inline"
   ]
  },
  {
   "cell_type": "code",
   "execution_count": 170,
   "metadata": {},
   "outputs": [],
   "source": [
    "#Creating a Function to append the  scores of the algorithms\n",
    "def trialscore(names, models, x, y,xv,yv):\n",
    "    Model = []\n",
    "    accuracy = []\n",
    "    recall = []\n",
    "    auc=[]\n",
    "    for name, model in zip(names, models):\n",
    "        Model.append(name)\n",
    "        model.fit(x,y)\n",
    "        Yv=model.predict(xv)\n",
    "        auc.append(metrics.roc_auc_score(yv,Yv))\n",
    "        accuracy.append(metrics.accuracy_score(yv,Yv))\n",
    "        recall.append(metrics.recall_score(yv,Yv))\n",
    "        \n",
    "        \n",
    "    consolidate=pd.DataFrame({'Model': Model,\n",
    "                              'AUC': auc,\n",
    "                              'Accuracy':accuracy,\n",
    "                              'recall': recall})\n",
    "    return consolidate"
   ]
  },
  {
   "cell_type": "code",
   "execution_count": 174,
   "metadata": {},
   "outputs": [],
   "source": [
    "# different models to be tried\n",
    "names = ['Logistic Regression','Gaussian Classifier','support vector Classifier', 'Decision Tree Classifier', \n",
    "         'Random Forest Classifier', 'Gradient Boosting Classfier',\n",
    "         'Adaboost Classifier','Bagging Classifier','XGboost']\n",
    "models = [LogisticRegression(),GaussianNB(),\n",
    "          SVC(), DecisionTreeClassifier(random_state=1),\n",
    "          RandomForestClassifier(random_state=1), GradientBoostingClassifier(random_state=1), \n",
    "          AdaBoostClassifier(random_state=1),BaggingClassifier(random_state=1),xgb.XGBClassifier(random_state=1,objective='binary:logistic')]\n"
   ]
  },
  {
   "cell_type": "code",
   "execution_count": 175,
   "metadata": {
    "scrolled": true
   },
   "outputs": [
    {
     "data": {
      "text/html": [
       "<div>\n",
       "<style scoped>\n",
       "    .dataframe tbody tr th:only-of-type {\n",
       "        vertical-align: middle;\n",
       "    }\n",
       "\n",
       "    .dataframe tbody tr th {\n",
       "        vertical-align: top;\n",
       "    }\n",
       "\n",
       "    .dataframe thead th {\n",
       "        text-align: right;\n",
       "    }\n",
       "</style>\n",
       "<table border=\"1\" class=\"dataframe\">\n",
       "  <thead>\n",
       "    <tr style=\"text-align: right;\">\n",
       "      <th></th>\n",
       "      <th>Model</th>\n",
       "      <th>AUC</th>\n",
       "      <th>Accuracy</th>\n",
       "      <th>recall</th>\n",
       "    </tr>\n",
       "  </thead>\n",
       "  <tbody>\n",
       "    <tr>\n",
       "      <th>0</th>\n",
       "      <td>Logistic Regression</td>\n",
       "      <td>0.749627</td>\n",
       "      <td>0.853823</td>\n",
       "      <td>0.551343</td>\n",
       "    </tr>\n",
       "    <tr>\n",
       "      <th>1</th>\n",
       "      <td>Gaussian Classifier</td>\n",
       "      <td>0.784599</td>\n",
       "      <td>0.832459</td>\n",
       "      <td>0.693523</td>\n",
       "    </tr>\n",
       "    <tr>\n",
       "      <th>2</th>\n",
       "      <td>support vector Classifier</td>\n",
       "      <td>0.504739</td>\n",
       "      <td>0.764993</td>\n",
       "      <td>0.009479</td>\n",
       "    </tr>\n",
       "    <tr>\n",
       "      <th>3</th>\n",
       "      <td>Decision Tree Classifier</td>\n",
       "      <td>0.706173</td>\n",
       "      <td>0.790855</td>\n",
       "      <td>0.545024</td>\n",
       "    </tr>\n",
       "    <tr>\n",
       "      <th>4</th>\n",
       "      <td>Random Forest Classifier</td>\n",
       "      <td>0.734568</td>\n",
       "      <td>0.835832</td>\n",
       "      <td>0.541864</td>\n",
       "    </tr>\n",
       "    <tr>\n",
       "      <th>5</th>\n",
       "      <td>Gradient Boosting Classfier</td>\n",
       "      <td>0.746766</td>\n",
       "      <td>0.851949</td>\n",
       "      <td>0.546603</td>\n",
       "    </tr>\n",
       "    <tr>\n",
       "      <th>6</th>\n",
       "      <td>Adaboost Classifier</td>\n",
       "      <td>0.746853</td>\n",
       "      <td>0.854573</td>\n",
       "      <td>0.541864</td>\n",
       "    </tr>\n",
       "    <tr>\n",
       "      <th>7</th>\n",
       "      <td>Bagging Classifier</td>\n",
       "      <td>0.712785</td>\n",
       "      <td>0.828336</td>\n",
       "      <td>0.492891</td>\n",
       "    </tr>\n",
       "    <tr>\n",
       "      <th>8</th>\n",
       "      <td>XGboost</td>\n",
       "      <td>0.739868</td>\n",
       "      <td>0.845577</td>\n",
       "      <td>0.538705</td>\n",
       "    </tr>\n",
       "  </tbody>\n",
       "</table>\n",
       "</div>"
      ],
      "text/plain": [
       "                         Model       AUC  Accuracy    recall\n",
       "0          Logistic Regression  0.749627  0.853823  0.551343\n",
       "1          Gaussian Classifier  0.784599  0.832459  0.693523\n",
       "2    support vector Classifier  0.504739  0.764993  0.009479\n",
       "3     Decision Tree Classifier  0.706173  0.790855  0.545024\n",
       "4     Random Forest Classifier  0.734568  0.835832  0.541864\n",
       "5  Gradient Boosting Classfier  0.746766  0.851949  0.546603\n",
       "6          Adaboost Classifier  0.746853  0.854573  0.541864\n",
       "7           Bagging Classifier  0.712785  0.828336  0.492891\n",
       "8                      XGboost  0.739868  0.845577  0.538705"
      ]
     },
     "metadata": {},
     "output_type": "display_data"
    }
   ],
   "source": [
    "training and results\n",
    "consolidate=trialscore(names, models, TrainData1,Traind['Target'],ValidData1,Validd['Target'])\n",
    "display(consolidate)"
   ]
  },
  {
   "cell_type": "markdown",
   "metadata": {},
   "source": [
    "**Observation**\n",
    "\n",
    "From this we can see that the mobilenet model with custom generator is the best so far. with auc of 0.89\n",
    "\n",
    "Ensamble did not work\n",
    "\n",
    "but cropping the image had a positive effect on results\n",
    "\n",
    "Normal:0 and others 1 also works very vell\n",
    "\n",
    "VGG 19 is better than VGG 16 for this task, but VGG16 trained faster than VGG19\n",
    "\n",
    "Model like mobile net is the fastet so far in training, then the VGG16 then VGG19\n",
    "\n",
    "self created architecture is as fast as mobile net due to the fact that data is stored in array for that\n"
   ]
  },
  {
   "cell_type": "markdown",
   "metadata": {},
   "source": [
    "#  Segmentation model"
   ]
  },
  {
   "cell_type": "markdown",
   "metadata": {},
   "source": [
    "As already state we can run the exsting model for more epochs"
   ]
  },
  {
   "cell_type": "code",
   "execution_count": null,
   "metadata": {},
   "outputs": [],
   "source": [
    "# model function\n",
    "class generator(keras.utils.Sequence):\n",
    "    \n",
    "    def __init__(self, folder, filenames, pneumonia_locations=None, batch_size=32, image_size=128, shuffle=True, augment=False, predict=False):\n",
    "        self.folder = folder\n",
    "        self.filenames = filenames\n",
    "        self.pneumonia_locations = pneumonia_locations\n",
    "        self.batch_size = batch_size\n",
    "        self.image_size = image_size\n",
    "        self.shuffle = shuffle\n",
    "        self.augment = augment\n",
    "        self.predict = predict\n",
    "        self.on_epoch_end()\n",
    "        \n",
    "    def __load__(self, filename):\n",
    "        # load dicom file as numpy array\n",
    "        img = pydicom.dcmread(os.path.join(self.folder, filename)).pixel_array\n",
    "        # create empty mask\n",
    "        msk = np.zeros(img.shape)\n",
    "        # get filename without extension\n",
    "        filename = filename.split('.')[0]\n",
    "        # if image contains pneumonia\n",
    "        if filename in pneumonia_locations:\n",
    "            # loop through pneumonia\n",
    "            for location in pneumonia_locations[filename]:\n",
    "                # add 1's at the location of the pneumonia\n",
    "                x, y, w, h = location\n",
    "                msk[y:y+h, x:x+w] = 1\n",
    "        # if augment then horizontal flip half the time\n",
    "        if self.augment and random.random() > 0.5:\n",
    "            img = np.fliplr(img)\n",
    "            msk = np.fliplr(msk)\n",
    "        # resize both image and mask\n",
    "        img = resize(img, (self.image_size, self.image_size), mode='reflect')\n",
    "        msk = resize(msk, (self.image_size, self.image_size), mode='reflect') > 0.5\n",
    "        # add trailing channel dimension\n",
    "        img = np.expand_dims(img, -1)\n",
    "        msk = np.expand_dims(msk, -1)\n",
    "        return img, msk\n",
    "    \n",
    "    def __loadpredict__(self, filename):\n",
    "        # load dicom file as numpy array\n",
    "        img = pydicom.dcmread(os.path.join(self.folder, filename)).pixel_array\n",
    "        # resize image\n",
    "        img = resize(img, (self.image_size, self.image_size), mode='reflect')\n",
    "        # add trailing channel dimension\n",
    "        img = np.expand_dims(img, -1)\n",
    "        return img\n",
    "        \n",
    "    def __getitem__(self, index):\n",
    "        # select batch\n",
    "        filenames = self.filenames[index*self.batch_size:(index+1)*self.batch_size]\n",
    "        # predict mode: return images and filenames\n",
    "        if self.predict:\n",
    "            # load files\n",
    "            imgs = [self.__loadpredict__(filename) for filename in filenames]\n",
    "            # create numpy batch\n",
    "            imgs = np.array(imgs)\n",
    "            return imgs, filenames\n",
    "        # train mode: return images and masks\n",
    "        else:\n",
    "            # load files\n",
    "            items = [self.__load__(filename) for filename in filenames]\n",
    "            # unzip images and masks\n",
    "            imgs, msks = zip(*items)\n",
    "            # create numpy batch\n",
    "            imgs = np.array(imgs)\n",
    "            msks = np.array(msks)\n",
    "            return imgs, msks\n",
    "        \n",
    "    def on_epoch_end(self):\n",
    "        if self.shuffle:\n",
    "            random.shuffle(self.filenames)\n",
    "        \n",
    "    def __len__(self):\n",
    "        if self.predict:\n",
    "            # return everything\n",
    "            return int(np.ceil(len(self.filenames) / self.batch_size))\n",
    "        else:\n",
    "            # return full batches only\n",
    "            return int(len(self.filenames) / self.batch_size)\n",
    "\n",
    "# creating model\n",
    "def create_downsample(channels, inputs):\n",
    "    x = keras.layers.BatchNormalization(momentum=0.9)(inputs)\n",
    "    x = keras.layers.LeakyReLU(0)(x)\n",
    "    x = keras.layers.Conv2D(channels, 1, padding='same', use_bias=False)(x)\n",
    "    x = keras.layers.MaxPool2D(2)(x)\n",
    "    return x\n",
    "\n",
    "def create_resblock(channels, inputs):\n",
    "    x = keras.layers.BatchNormalization(momentum=0.9)(inputs)\n",
    "    x = keras.layers.LeakyReLU(0)(x)\n",
    "    x = keras.layers.Conv2D(channels, 3, padding='same', use_bias=False)(x)\n",
    "    x = keras.layers.BatchNormalization(momentum=0.9)(x)\n",
    "    x = keras.layers.LeakyReLU(0)(x)\n",
    "    x = keras.layers.Conv2D(channels, 3, padding='same', use_bias=False)(x)\n",
    "    return keras.layers.add([x, inputs])\n",
    "\n",
    "def create_network(input_size, channels, n_blocks=2, depth=4):\n",
    "    # input\n",
    "    inputs = keras.Input(shape=(input_size, input_size, 1))\n",
    "    x = keras.layers.Conv2D(channels, 3, padding='same', use_bias=False)(inputs)\n",
    "    # residual blocks\n",
    "    for d in range(depth):\n",
    "        channels = channels * 2\n",
    "        x = create_downsample(channels, x)\n",
    "        for b in range(n_blocks):\n",
    "            x = create_resblock(channels, x)\n",
    "    # output\n",
    "    x = keras.layers.BatchNormalization(momentum=0.9)(x)\n",
    "    x = keras.layers.LeakyReLU(0)(x)\n",
    "    x = keras.layers.Conv2D(128, 1, activation=None)(x)\n",
    "    x = keras.layers.BatchNormalization(momentum=0.9)(x)\n",
    "    x = keras.layers.LeakyReLU(0)(x)\n",
    "    x = keras.layers.Conv2DTranspose(64, (8,8), (4,4), padding=\"same\", activation=None)(x)\n",
    "    x = keras.layers.BatchNormalization(momentum=0.9)(x)\n",
    "    x = keras.layers.LeakyReLU(0)(x)\n",
    "    x = keras.layers.Conv2D(1, 1, activation='sigmoid')(x)\n",
    "    outputs = keras.layers.UpSampling2D(2**(depth-2))(x)\n",
    "    model = keras.Model(inputs=inputs, outputs=outputs)\n",
    "    return model\n",
    "\n",
    "\n",
    "# define iou or jaccard loss function\n",
    "def iou_loss(y_true, y_pred):\n",
    "    #print(y_true)\n",
    "    y_true=tf.cast(y_true, tf.float32)\n",
    "    y_pred=tf.cast(y_pred, tf.float32)\n",
    "    y_true = tf.reshape(y_true, [-1])\n",
    "    y_pred = tf.reshape(y_pred, [-1])\n",
    "   \n",
    "    intersection = tf.reduce_sum(y_true * y_pred)\n",
    "    score = (intersection + 1.) / (tf.reduce_sum(y_true) + tf.reduce_sum(y_pred) - intersection + 1.)\n",
    "    return 1 - score\n",
    "\n",
    "# combine bce loss and iou loss\n",
    "def iou_bce_loss(y_true, y_pred):\n",
    "    return 0.5 * keras.losses.binary_crossentropy(y_true, y_pred) + 0.5 * iou_loss(y_true, y_pred)\n",
    "\n",
    "# mean iou as a metric\n",
    "def mean_iou(y_true, y_pred):\n",
    "    y_pred = tf.round(y_pred)\n",
    "    intersect = tf.reduce_sum(y_true * y_pred, axis=[1, 2, 3])\n",
    "    union = tf.reduce_sum(y_true, axis=[1, 2, 3]) + tf.reduce_sum(y_pred, axis=[1, 2, 3])\n",
    "    smooth = tf.ones(tf.shape(intersect))\n",
    "    return tf.reduce_mean((intersect + smooth) / (union - intersect + smooth))\n",
    "\n",
    "# set batch size and image size\n",
    "BATCH_SIZE = 16\n",
    "IMAGE_SIZE = 128"
   ]
  },
  {
   "cell_type": "code",
   "execution_count": 1,
   "metadata": {},
   "outputs": [],
   "source": [
    " #As this model takes more time to run 3 epochs were run at a time, weights were saved, reloaded again, learing rate \n",
    "# is adjusted and this process is repeated till curves got stabilized\n",
    "# Create model and compile model\n",
    "model = create_network(input_size=IMAGE_SIZE, channels=32, n_blocks=2, depth=4) \n",
    "model.compile(optimizer='adam',\n",
    "              loss=iou_bce_loss,\n",
    "              metrics=['accuracy', mean_iou])\n",
    "\n",
    "MULTI_PROCESSING = True \n",
    "\n",
    "\n",
    "def cosine_annealing(x):\n",
    "    lr = 0.001\n",
    "    epochs = 39\n",
    "    return lr*(np.cos(np.pi*x/epochs)+1.)/2\n",
    "learning_rate = tf.keras.callbacks.LearningRateScheduler(cosine_annealing)\n",
    "\n",
    "train_gen = generator(folder, train_filenames, pneumonia_locations, batch_size=BATCH_SIZE, image_size=IMAGE_SIZE, shuffle=True, augment=False, predict=False)\n",
    "valid_gen = generator(folder, valid_filenames, pneumonia_locations, batch_size=BATCH_SIZE, image_size=IMAGE_SIZE, shuffle=False, predict=False)\n",
    "\n",
    "#loading pretrained weights at interim model for 11 epochs\n",
    "\n",
    "model.load_weights('segmentmodel.h5')\n",
    "\n",
    "history = model.fit_generator(train_gen, validation_data=valid_gen, callbacks=[learning_rate], use_multiprocessing=True, epochs=39, shuffle=True, verbose=0)\n",
    "model.save_weights('segmentmodel50.h5')"
   ]
  },
  {
   "cell_type": "code",
   "execution_count": null,
   "metadata": {},
   "outputs": [],
   "source": [
    "kk=pd.DataFrame({'loss':history.history[\"loss\"],'val_loss':history.history[\"val_loss\"],\n",
    "                 'accuracy':history.history[\"accuracy\"],'val_acc':history.history[\"val_accuracy\"],\n",
    "                 'mean_iou':history.history[\"mean_iou\"],'val_mean_iou':history.history[\"val_mean_iou\"]})\n",
    "#Saving history for later use\n",
    "kk.to_csv('segmenthistory50.csv')"
   ]
  },
  {
   "cell_type": "code",
   "execution_count": 5,
   "metadata": {},
   "outputs": [],
   "source": [
    "import pandas as pd\n",
    "import matplotlib.pyplot as plt"
   ]
  },
  {
   "cell_type": "code",
   "execution_count": 3,
   "metadata": {},
   "outputs": [],
   "source": [
    "# the entire history (0 to 50 epochs) in manually combined in excel separately as seg.csv.\n",
    "kk=pd.read_csv('seg.csv')"
   ]
  },
  {
   "cell_type": "code",
   "execution_count": 7,
   "metadata": {},
   "outputs": [
    {
     "data": {
      "text/plain": [
       "<matplotlib.legend.Legend at 0xfb10acd4e0>"
      ]
     },
     "execution_count": 7,
     "metadata": {},
     "output_type": "execute_result"
    },
    {
     "data": {
      "image/png": "[encoded data removed]",
      "text/plain": [
       "<Figure size 432x288 with 1 Axes>"
      ]
     },
     "metadata": {
      "needs_background": "light"
     },
     "output_type": "display_data"
    }
   ],
   "source": [
    "# plotting the accuracy\n",
    "plt.plot(kk.index,kk.Training_acc, label=\"Training_acc\")\n",
    "plt.plot(kk.index,kk.val_acc,label=\"Validation_acc\")\n",
    "plt.legend(loc=\"lower right\")"
   ]
  },
  {
   "cell_type": "code",
   "execution_count": 9,
   "metadata": {},
   "outputs": [
    {
     "data": {
      "text/plain": [
       "<matplotlib.legend.Legend at 0xfb10c06780>"
      ]
     },
     "execution_count": 9,
     "metadata": {},
     "output_type": "execute_result"
    },
    {
     "data": {
      "image/png": "[encoded data removed]",
      "text/plain": [
       "<Figure size 432x288 with 1 Axes>"
      ]
     },
     "metadata": {
      "needs_background": "light"
     },
     "output_type": "display_data"
    }
   ],
   "source": [
    "# plotting the accuracy\n",
    "plt.plot(kk.index,kk.loss, label=\"Training_loss\")\n",
    "plt.plot(kk.index,kk.val_loss,label=\"Validation_loss\")\n",
    "plt.legend(loc=\"upper right\")"
   ]
  },
  {
   "cell_type": "code",
   "execution_count": 11,
   "metadata": {},
   "outputs": [
    {
     "data": {
      "text/plain": [
       "<matplotlib.legend.Legend at 0xfb10cca518>"
      ]
     },
     "execution_count": 11,
     "metadata": {},
     "output_type": "execute_result"
    },
    {
     "data": {
      "image/png": "[encoded data removed]",
      "text/plain": [
       "<Figure size 432x288 with 1 Axes>"
      ]
     },
     "metadata": {
      "needs_background": "light"
     },
     "output_type": "display_data"
    }
   ],
   "source": [
    "plt.plot(kk.index,kk.mean_iou, label=\"Training_mean_iou\")\n",
    "plt.plot(kk.index,kk.val_mean_iou,label=\"Val_mean_iou\")\n",
    "plt.legend(loc=\"lower right\")"
   ]
  },
  {
   "cell_type": "markdown",
   "metadata": {},
   "source": [
    "The curves have stabilized better than before with validation accuracy of  0.9778, Loss 0.342, Mean_IOU:0.7844\n",
    "    \n",
    "Model performance has increased with Epochs"
   ]
  },
  {
   "cell_type": "markdown",
   "metadata": {},
   "source": [
    "**Predicting Sample Images**"
   ]
  },
  {
   "cell_type": "code",
   "execution_count": 12,
   "metadata": {},
   "outputs": [],
   "source": [
    "# non max suppression\n",
    "def non_max_suppression_slow(boxes, overlapThresh):\n",
    "    if len(boxes) == 0:\n",
    "        return []\n",
    "    pick = []\n",
    "\n",
    "    x1 = boxes[:,0]\n",
    "    y1 = boxes[:,1]\n",
    "    x2 = boxes[:,2]\n",
    "    y2 = boxes[:,3]\n",
    "    area = (x2 - x1 + 1) * (y2 - y1 + 1)\n",
    "    idxs = np.argsort(y2)\n",
    "\n",
    "    while len(idxs) > 0:\n",
    "  \n",
    "        last = len(idxs) - 1\n",
    "        i = idxs[last]\n",
    "        pick.append(i)\n",
    "        suppress = [last]\n",
    "\n",
    "  \n",
    "        for pos in range(0, last):\n",
    "     \n",
    "            j = idxs[pos]\n",
    "            xx1 = max(x1[i], x1[j])\n",
    "            yy1 = max(y1[i], y1[j])\n",
    "            xx2 = min(x2[i], x2[j])\n",
    "            yy2 = min(y2[i], y2[j])\n",
    "\n",
    "      \n",
    "            w = max(0, xx2 - xx1 + 1)\n",
    "            h = max(0, yy2 - yy1 + 1)\n",
    "\n",
    "            overlap = float(w * h) / area[j]\n",
    "            if overlap > overlapThresh:\n",
    "                suppress.append(pos)\n",
    "        idxs = np.delete(idxs, suppress)\n",
    "\n",
    "    return boxes[pick]"
   ]
  },
  {
   "cell_type": "code",
   "execution_count": 30,
   "metadata": {},
   "outputs": [],
   "source": [
    "# mask predict function\n",
    "def predict(batch,num):\n",
    "    k=0\n",
    "    f, ax = plt.subplots(1,3, figsize=(16,18))\n",
    "    X=np.array(valid_gen[batch][0][num])\n",
    "    Y=np.array(valid_gen[batch][1][num])\n",
    "    ypred=model.predict(X.reshape(1,128,128,1))\n",
    "    ximg=np.reshape(X,(128,128))\n",
    "    ximgp=ximg.copy()\n",
    "    Y=np.reshape(Y,(128,128))\n",
    "    yp=np.reshape(ypred,(128,128))\n",
    "    k=0\n",
    "        \n",
    "    THRESHOLD=0.3\n",
    "    region=np.reshape(ypred,(128,128))\n",
    "    output = np.zeros((128,128), dtype=np.uint8)\n",
    "    for i in range(region.shape[1]):\n",
    "        for j in range(region.shape[0]):\n",
    "            if region[i][j] > THRESHOLD:\n",
    "                x = int(j)\n",
    "                y = int(i)\n",
    "                x2 = int((j + 1))\n",
    "                y2 = int((i + 1))\n",
    "            #cv2.rectangle(unscaled, (x, y), (x2, y2), (0, 255, 0), 1)\n",
    "                output[y:y2,x:x2] = 1\n",
    "                #print(x,y,x2,y2)\n",
    "\n",
    "    contours,_ = cv2.findContours(output, cv2.RETR_TREE, cv2.CHAIN_APPROX_SIMPLE)\n",
    "    bb=[]\n",
    "    for cnt in contours:\n",
    "        approx = cv2.approxPolyDP(cnt,0.00000001* cv2.arcLength(cnt, True), True)\n",
    "        x, y, w, h = cv2.boundingRect(approx)\n",
    "        bb.append((x,y,x+w,y+h))\n",
    "    box=non_max_suppression_slow(np.array(bb),0.5)\n",
    "    for po in box:\n",
    "        cv2.rectangle(region, (po[0], po[1]), (po[2], po[3]), (255, 255, 255), 1)\n",
    "        print('box dim x,y,w,h:', po[0], po[1],po[2]-po[0], po[3]-po[1])\n",
    "        \n",
    "    \n",
    "    \n",
    "    j=['XRAY','MASK','Prediction']\n",
    "    for i in [ximg,Y,region]:\n",
    "        if k==0:\n",
    "            ax[k].imshow(i, cmap=plt.cm.gist_gray)\n",
    "        else:\n",
    "            ax[k].imshow(i)\n",
    "        ax[k].set_title(j[k])\n",
    "        k=k+1\n",
    "    plt.show()\n",
    "    cv2.waitKey(0)\n",
    "    cv2.destroyAllWindows()\n",
    "        "
   ]
  },
  {
   "cell_type": "code",
   "execution_count": 31,
   "metadata": {},
   "outputs": [
    {
     "name": "stdout",
     "output_type": "stream",
     "text": [
      "box dim x,y,w,h: 68 28 40 80\n",
      "box dim x,y,w,h: 20 24 36 80\n"
     ]
    },
    {
     "data": {
      "image/png": "[encoded data removed]",
      "text/plain": [
       "<Figure size 1152x1296 with 3 Axes>"
      ]
     },
     "metadata": {
      "needs_background": "light"
     },
     "output_type": "display_data"
    }
   ],
   "source": [
    " predict(0,14)"
   ]
  },
  {
   "cell_type": "code",
   "execution_count": 33,
   "metadata": {},
   "outputs": [
    {
     "name": "stdout",
     "output_type": "stream",
     "text": [
      "box dim x,y,w,h: 28 24 32 64\n"
     ]
    },
    {
     "data": {
      "image/png": "[encoded data removed]",
      "text/plain": [
       "<Figure size 1152x1296 with 3 Axes>"
      ]
     },
     "metadata": {
      "needs_background": "light"
     },
     "output_type": "display_data"
    }
   ],
   "source": [
    " predict(20,14)"
   ]
  },
  {
   "cell_type": "code",
   "execution_count": 35,
   "metadata": {},
   "outputs": [
    {
     "name": "stdout",
     "output_type": "stream",
     "text": [
      "box dim x,y,w,h: 80 40 32 52\n",
      "box dim x,y,w,h: 36 40 28 44\n"
     ]
    },
    {
     "data": {
      "image/png": "[encoded data removed]",
      "text/plain": [
       "<Figure size 1152x1296 with 3 Axes>"
      ]
     },
     "metadata": {
      "needs_background": "light"
     },
     "output_type": "display_data"
    }
   ],
   "source": [
    " predict(10,5)"
   ]
  },
  {
   "cell_type": "code",
   "execution_count": 16,
   "metadata": {},
   "outputs": [
    {
     "data": {
      "image/png": "[encoded data removed]",
      "text/plain": [
       "<Figure size 1152x1296 with 3 Axes>"
      ]
     },
     "metadata": {
      "needs_background": "light"
     },
     "output_type": "display_data"
    }
   ],
   "source": [
    " predict(20,1)"
   ]
  },
  {
   "cell_type": "code",
   "execution_count": 17,
   "metadata": {},
   "outputs": [
    {
     "data": {
      "image/png": "[encoded data removed]",
      "text/plain": [
       "<Figure size 1152x1296 with 3 Axes>"
      ]
     },
     "metadata": {
      "needs_background": "light"
     },
     "output_type": "display_data"
    }
   ],
   "source": [
    " predict(20,3)"
   ]
  },
  {
   "cell_type": "code",
   "execution_count": 38,
   "metadata": {},
   "outputs": [
    {
     "data": {
      "image/png": "[encoded data removed]",
      "text/plain": [
       "<Figure size 1152x1296 with 3 Axes>"
      ]
     },
     "metadata": {
      "needs_background": "light"
     },
     "output_type": "display_data"
    }
   ],
   "source": [
    " predict(30,14)"
   ]
  },
  {
   "cell_type": "code",
   "execution_count": 39,
   "metadata": {},
   "outputs": [
    {
     "name": "stdout",
     "output_type": "stream",
     "text": [
      "box dim x,y,w,h: 16 28 40 76\n",
      "box dim x,y,w,h: 64 28 44 76\n"
     ]
    },
    {
     "data": {
      "image/png": "[encoded data removed]",
      "text/plain": [
       "<Figure size 1152x1296 with 3 Axes>"
      ]
     },
     "metadata": {
      "needs_background": "light"
     },
     "output_type": "display_data"
    }
   ],
   "source": [
    " predict(36,14)"
   ]
  },
  {
   "cell_type": "code",
   "execution_count": 40,
   "metadata": {},
   "outputs": [
    {
     "name": "stdout",
     "output_type": "stream",
     "text": [
      "box dim x,y,w,h: 72 32 36 80\n",
      "box dim x,y,w,h: 20 28 40 76\n"
     ]
    },
    {
     "data": {
      "image/png": "[encoded data removed]",
      "text/plain": [
       "<Figure size 1152x1296 with 3 Axes>"
      ]
     },
     "metadata": {
      "needs_background": "light"
     },
     "output_type": "display_data"
    }
   ],
   "source": [
    " predict(36,7)"
   ]
  },
  {
   "cell_type": "code",
   "execution_count": 41,
   "metadata": {},
   "outputs": [
    {
     "name": "stdout",
     "output_type": "stream",
     "text": [
      "box dim x,y,w,h: 24 32 36 52\n",
      "box dim x,y,w,h: 72 36 36 48\n"
     ]
    },
    {
     "data": {
      "image/png": "[encoded data removed]",
      "text/plain": [
       "<Figure size 1152x1296 with 3 Axes>"
      ]
     },
     "metadata": {
      "needs_background": "light"
     },
     "output_type": "display_data"
    }
   ],
   "source": [
    " predict(36,13)"
   ]
  },
  {
   "cell_type": "code",
   "execution_count": 44,
   "metadata": {
    "scrolled": true
   },
   "outputs": [
    {
     "data": {
      "image/png": "[encoded data removed]",
      "text/plain": [
       "<Figure size 1152x1296 with 3 Axes>"
      ]
     },
     "metadata": {
      "needs_background": "light"
     },
     "output_type": "display_data"
    }
   ],
   "source": [
    " predict(42,3)"
   ]
  },
  {
   "cell_type": "markdown",
   "metadata": {},
   "source": [
    "The model is correctly creating bounding boxes on the locations as in mask.if the image has no lung opacity the model is not creating bounding box. even if there are some yellow patches in the prediction, their values are less than threshold. so no bounding boxes"
   ]
  },
  {
   "cell_type": "code",
   "execution_count": null,
   "metadata": {},
   "outputs": [],
   "source": []
  }
 ],
 "metadata": {
  "kernelspec": {
   "display_name": "Python 3",
   "language": "python",
   "name": "python3"
  },
  "language_info": {
   "codemirror_mode": {
    "name": "ipython",
    "version": 3
   },
   "file_extension": ".py",
   "mimetype": "text/x-python",
   "name": "python",
   "nbconvert_exporter": "python",
   "pygments_lexer": "ipython3",
   "version": "3.7.3"
  }
 },
 "nbformat": 4,
 "nbformat_minor": 2
}
